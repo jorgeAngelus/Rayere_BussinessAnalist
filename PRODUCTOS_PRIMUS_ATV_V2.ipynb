{
 "cells": [
  {
   "cell_type": "markdown",
   "metadata": {},
   "source": [
    "<H1> Revision de archivos de ATV"
   ]
  },
  {
   "cell_type": "code",
   "execution_count": 1,
   "metadata": {},
   "outputs": [],
   "source": [
    "import pandas as pd\n",
    "import numpy as np\n",
    "from tkinter import filedialog, simpledialog,messagebox\n",
    "import tkinter as tk"
   ]
  },
  {
   "cell_type": "markdown",
   "metadata": {},
   "source": [
    "<H3> Archivo con las marcas Principales <H3>"
   ]
  },
  {
   "cell_type": "code",
   "execution_count": 1,
   "metadata": {},
   "outputs": [
    {
     "ename": "NameError",
     "evalue": "name 'simpledialog' is not defined",
     "output_type": "error",
     "traceback": [
      "\u001b[1;31m---------------------------------------------------------------------------\u001b[0m",
      "\u001b[1;31mNameError\u001b[0m                                 Traceback (most recent call last)",
      "Input \u001b[1;32mIn [1]\u001b[0m, in \u001b[0;36m<cell line: 3>\u001b[1;34m()\u001b[0m\n\u001b[0;32m      1\u001b[0m Anio \u001b[38;5;241m=\u001b[39m \u001b[38;5;124m\"\u001b[39m\u001b[38;5;124m2024\u001b[39m\u001b[38;5;124m\"\u001b[39m\n\u001b[1;32m----> 3\u001b[0m MesData\u001b[38;5;241m=\u001b[39m \u001b[43msimpledialog\u001b[49m\u001b[38;5;241m.\u001b[39maskstring(prompt\u001b[38;5;241m=\u001b[39m\u001b[38;5;124m\"\u001b[39m\u001b[38;5;124mMes de la Data Que estrega ATV (solo 3 Letras). Ejemplo Mayo = May\u001b[39m\u001b[38;5;124m\"\u001b[39m,title\u001b[38;5;241m=\u001b[39m\u001b[38;5;124m\"\u001b[39m\u001b[38;5;124mMes de la Data\u001b[39m\u001b[38;5;124m\"\u001b[39m,)\n\u001b[0;32m      4\u001b[0m numeroMesData\u001b[38;5;241m=\u001b[39m \u001b[38;5;28mint\u001b[39m(simpledialog\u001b[38;5;241m.\u001b[39maskstring(prompt\u001b[38;5;241m=\u001b[39m\u001b[38;5;124m\"\u001b[39m\u001b[38;5;124mcoloca el Mes en numero que pertenece a la Data que se entrego de ATV, ejemplo Abril = 4\u001b[39m\u001b[38;5;124m\"\u001b[39m,title\u001b[38;5;241m=\u001b[39m\u001b[38;5;124m\"\u001b[39m\u001b[38;5;124mMes de la Data\u001b[39m\u001b[38;5;124m\"\u001b[39m))\n\u001b[0;32m      5\u001b[0m \u001b[38;5;66;03m#numeroMesData=6\u001b[39;00m\n\u001b[0;32m      6\u001b[0m \n\u001b[0;32m      7\u001b[0m \u001b[38;5;66;03m#hojas=[]\u001b[39;00m\n",
      "\u001b[1;31mNameError\u001b[0m: name 'simpledialog' is not defined"
     ]
    }
   ],
   "source": [
    "Anio = \"2024\"\n",
    "\n",
    "MesData= simpledialog.askstring(prompt=\"Mes de la Data Que estrega ATV (solo 3 Letras). Ejemplo Mayo = May\",title=\"Mes de la Data\",)\n",
    "numeroMesData= int(simpledialog.askstring(prompt=\"coloca el Mes en numero que pertenece a la Data que se entrego de ATV, ejemplo Abril = 4\",title=\"Mes de la Data\"))\n",
    "#numeroMesData=6\n",
    "\n",
    "#hojas=[]\n",
    "RutaEspMens = filedialog.askopenfilename(title=\"Archivo Especial Mensual\",initialdir=\"D:/RAYERE/Documents/Investigacion de Mercados/ATVMENSUAL/\",filetypes=[(\"Archivo de Excel\",\"*.xlsx\")])\n",
    "xls = pd.ExcelFile(RutaEspMens)\n",
    "hojas = xls.sheet_names\n",
    "print(hojas)\n",
    "ArrDataFrames=[]\n",
    "\n",
    "for hoja in hojas:\n",
    "    if hoja == 'VALGION CLT' or hoja=='RAYPID' or hoja=='PRESTOFLAM LD' or hoja=='DUOFLEX' or hoja=='PERDUQUAN' or hoja=='NEPTALIP EXTEND'or hoja=='PROMOTION' or hoja=='NOPATIC':\n",
    "       \n",
    "        archivo2 = pd.read_excel(RutaEspMens,hoja,header=1)\n",
    "        \n",
    "        dfarch2 = archivo2.iloc[1:,2:18] #extraer lo necesario de mi Dataframe\n",
    "        \n",
    "        #agregar columnas faltantes\n",
    "        columNames=dfarch2.columns.values\n",
    "        dfarch_jetzt=dfarch2.rename(columns={columNames[0]:'ZONA'})\n",
    "\n",
    "        dfarch_jetzt[\"COD_ZONA\"] = dfarch_jetzt.ZONA.str[0:5]\n",
    "        dfarch_jetzt[\"PRODUCTO\"]= hoja\n",
    "\n",
    "        dfsalidaESPMENSUAL = dfarch_jetzt.iloc[:,[16,0,17,1,2,3,4,5,6,7,8,9,10,11,12,13,14,15]]\n",
    "\n",
    "        print(dfsalidaESPMENSUAL.head())\n",
    "\n",
    "        ArrDataFrames.append(dfsalidaESPMENSUAL)\n",
    "\n",
    "dfmarcasPrincipales= pd.concat(ArrDataFrames)\n",
    "\n",
    "dfmarcasPrincipales.to_excel(\"D:/RAYERE/PYTHON/ESP MENSUAL \"+ MesData +\" \"+ Anio + \".xlsx\",index=False)\n",
    "\n",
    "dfMP_Filtro=dfmarcasPrincipales[[\"COD_ZONA\",\"PRODUCTO\",MesData+\". 2024\",MesData+\". 2023\",\"Acum. \"+str(numeroMesData)+ \"/2023\",\"Acum. \"+str(numeroMesData)+\"/2024\"]]\n",
    "\n",
    "dfMP_Filtro.to_excel(\"D:/RAYERE/PYTHON/ESP MENSUAL \"+ MesData +\" \"+ Anio + \"Filtro.xlsx\",index=False)\n",
    "\n",
    "print(\"Marcas Principales termino\")\n",
    "\n",
    "#messagebox.showinfo(message=\"Marcas Principales termino\",title=\"Fin de Sistema\")"
   ]
  },
  {
   "cell_type": "markdown",
   "metadata": {},
   "source": [
    "<H3>Archivo Rayere Mes año de ATV con el acumulado del mes actual y el mes anterior"
   ]
  },
  {
   "cell_type": "code",
   "execution_count": 3,
   "metadata": {},
   "outputs": [
    {
     "name": "stdout",
     "output_type": "stream",
     "text": [
      "                              ZONA     Código    MA-Code  \\\n",
      "2                           Mexico        0.0        0.0   \n",
      "11                 REGION VISITADA      100.0        0.0   \n",
      "20  P1200 IGNACIO VAZQUEZ MARTÍNEZ    10001.0      100.0   \n",
      "29        P1201 ROBERTO HERRERA C.  1000101.0    10001.0   \n",
      "38                 ECATEPEC 110502   110502.0  1000101.0   \n",
      "\n",
      "                           PRODUCTO Ago. 2022 Sep. 2022 Oct. 2022 Nov. 2022  \\\n",
      "2   7508515 QUIFLURAL TABL 400 MG 8       506       484       483       422   \n",
      "11  7508515 QUIFLURAL TABL 400 MG 8       416       392       379       324   \n",
      "20  7508515 QUIFLURAL TABL 400 MG 8        63        46        45        36   \n",
      "29  7508515 QUIFLURAL TABL 400 MG 8         2         6         3         3   \n",
      "38  7508515 QUIFLURAL TABL 400 MG 8         0         1         0         1   \n",
      "\n",
      "   Dic. 2022 Ene. 2023  ... Ene. 2024 Feb. 2024 Mar. 2024 Abr. 2024 May. 2024  \\\n",
      "2        456       474  ...       409       305       297       207       207   \n",
      "11       384       401  ...       364       270       256       168       165   \n",
      "20        41        36  ...        52        48        41        23        31   \n",
      "29         4         1  ...         4         3         6         2         1   \n",
      "38         1         0  ...         0         1         0         0         0   \n",
      "\n",
      "   Jun. 2024 Jul. 2024 COD_ZONA Acum. 7/2023 Acum. 7/2024  \n",
      "2        296       151    Mexic       1804.0       1872.0  \n",
      "11       271       128    REGIO       1480.0       1622.0  \n",
      "20        41        21    P1200        207.0        257.0  \n",
      "29         3         0    P1201         12.0         19.0  \n",
      "38         1         0    ECATE          2.0          2.0  \n",
      "\n",
      "[5 rows x 31 columns]\n",
      "   COD_ZONA                         PRODUCTO Jul. 2024 Jul. 2023  \\\n",
      "2     Mexic  7508515 QUIFLURAL TABL 400 MG 8       151       217   \n",
      "11    REGIO  7508515 QUIFLURAL TABL 400 MG 8       128       179   \n",
      "20    P1200  7508515 QUIFLURAL TABL 400 MG 8        21        39   \n",
      "29    P1201  7508515 QUIFLURAL TABL 400 MG 8         0         3   \n",
      "38    ECATE  7508515 QUIFLURAL TABL 400 MG 8         0         0   \n",
      "\n",
      "    Acum. 7/2023  Acum. 7/2024  \n",
      "2         1804.0        1872.0  \n",
      "11        1480.0        1622.0  \n",
      "20         207.0         257.0  \n",
      "29          12.0          19.0  \n",
      "38           2.0           2.0  \n",
      "Otras Marcas termino\n"
     ]
    }
   ],
   "source": [
    "#numeroMesData= simpledialog.askinteger(prompt=\"coloca el Mes en numero que pertenece a la Data Que estrego de ATV, ejemplo Abril = 4\",title=\"Mes de la Data\")\n",
    "\n",
    "columNames=dfmarcasPrincipales.columns.values\n",
    "\n",
    "num2023 = 16 - numeroMesData # para suma de acumulados\n",
    "num2024 = 28 - numeroMesData # Para suma de Acumulados\n",
    "\n",
    "RutaRayereMensAnio = filedialog.askopenfilename(title=\"Archivo Rayere Mes año\",initialdir=\"D:/RAYERE/Documents/Investigacion de Mercados/ATVMENSUAL/\",filetypes=[(\"Archivo de Excel\",\"*.xlsx\")])\n",
    "\n",
    "archRayereMesAnio = pd.read_excel(RutaRayereMensAnio,0) \n",
    "df2 = archRayereMesAnio.iloc[1:,0:28] #extraer lo necesario de mi Dataframe\n",
    "\n",
    "\n",
    "df2[\"COD_ZONA\"] = df2.Región.str[0:5]\n",
    "df2=df2.rename(columns={'Región':'ZONA'})\n",
    "df2=df2.rename(columns={'Productos':'PRODUCTO'})\n",
    "\n",
    "df2[columNames[-2]] = df2.iloc[:,num2023:16].sum(axis=1)  #revisar si podemos sumar columnas    2023\n",
    "df2[columNames[-1]] = df2.iloc[:,num2024:28].sum(axis=1)  #revisar si podemos sumar columnas  2024\n",
    "\n",
    "df2_Fil = df2[(df2.PRODUCTO == \"7508515 QUIFLURAL TABL 400 MG 8\") ]\n",
    "\n",
    "print(df2_Fil.head())\n",
    "\n",
    "dfOtrasMarcas = df2_Fil[[\"COD_ZONA\",\"PRODUCTO\",MesData+\". 2024\",MesData+\". 2023\",\"Acum. \"+str(numeroMesData)+ \"/2023\",\"Acum. \"+str(numeroMesData)+\"/2024\"]]\n",
    "\n",
    "print(dfOtrasMarcas.head())\n",
    "\n",
    "dfOtrasMarcas.to_excel(\"D:/RAYERE/PYTHON/RAYERE \"+ MesData +\" \"+ Anio + \".xlsx\",index=False)\n",
    "\n",
    "print(\"Otras Marcas termino\")"
   ]
  },
  {
   "cell_type": "markdown",
   "metadata": {},
   "source": [
    "<H2>Concatenar los archivos Generados."
   ]
  },
  {
   "cell_type": "code",
   "execution_count": 4,
   "metadata": {},
   "outputs": [],
   "source": [
    "dfcompleto = pd.concat([dfMP_Filtro,dfOtrasMarcas])\n",
    "\n",
    "dfFiltradoRutas = dfcompleto[(dfcompleto.COD_ZONA.str.startswith('P1'))]\n",
    "\n",
    "dfFiltradoRutas.to_excel(\"D:/RAYERE/PYTHON/FILT \"+MesData+\" \"+Anio+\" .xlsx\",index=False)"
   ]
  },
  {
   "cell_type": "markdown",
   "metadata": {},
   "source": [
    "PIVOTEAR LOS ARCHIVOS."
   ]
  }
 ],
 "metadata": {
  "kernelspec": {
   "display_name": "Python 3",
   "language": "python",
   "name": "python3"
  },
  "language_info": {
   "codemirror_mode": {
    "name": "ipython",
    "version": 3
   },
   "file_extension": ".py",
   "mimetype": "text/x-python",
   "name": "python",
   "nbconvert_exporter": "python",
   "pygments_lexer": "ipython3",
   "version": "3.10.6"
  }
 },
 "nbformat": 4,
 "nbformat_minor": 2
}
