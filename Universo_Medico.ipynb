{
 "cells": [
  {
   "attachments": {},
   "cell_type": "markdown",
   "metadata": {},
   "source": [
    "# Dar formato a archivo de Listado Medico #\n",
    "\n",
    "Estos archivos son el universo Medico y el Universo de Farmacias, nos sirven para poder subirlos a Arcgis Online y poder actualizar el Dashboard de la siguiente liga:\n",
    "https://www.arcgis.com/apps/dashboards/0eadecfe2659424e8b2e9f93863c3020\n",
    "\n",
    "Estos Archivos son necesarios que se guarden en formato CSV."
   ]
  },
  {
   "cell_type": "code",
   "execution_count": 6,
   "metadata": {},
   "outputs": [
    {
     "name": "stdout",
     "output_type": "stream",
     "text": [
      "termino\n"
     ]
    },
    {
     "data": {
      "text/plain": [
       "'ok'"
      ]
     },
     "execution_count": 6,
     "metadata": {},
     "output_type": "execute_result"
    }
   ],
   "source": [
    "import pandas as pd\n",
    "from tkinter import filedialog\n",
    "from datetime import date\n",
    "import tkinter as tk\n",
    "\n",
    "flag=True\n",
    "\n",
    "#Seleccion de Archivos\n",
    "fileMedicos = filedialog.askopenfilename(title=\"Universo Medico del CRM\",initialdir=\"D:/\",filetypes=[(\"Archivo de Excel\",\"*.xlsx\")])\n",
    "fileFarmacias = filedialog.askopenfilename(title=\"Farmacias del CRM\",initialdir=\"D:/\",filetypes=[(\"Archivo de Excel\",\"*.xlsx\")])\n",
    "\n",
    "while flag == True:\n",
    "    if fileMedicos != \"\" and fileFarmacias != \"\":\n",
    "\n",
    "        #Ruta donde se almacenaran los archivos \n",
    "        ruta= \"D:/RAYERE/PYTHON/Medicos y Farmacias para Arcgis/\"\n",
    "\n",
    "        #nombre de los archivos de Salida\n",
    "        archSalidaMedicos = \"Universo_Medico.csv\"\n",
    "        archSalidaFarCSV = \"Universo_Farmacias.csv\"\n",
    "\n",
    "        #Medicos\n",
    "        dfUniMed = pd.read_excel(fileMedicos,0,header=1,na_values=0)\n",
    "        dfUniMed[\"Cod_Repre\"] = dfUniMed.Representante.str[0:5]\n",
    "        dfUniMed[\"Cod_Gerente\"] = dfUniMed.Representante.str[0:3] + \"00\"\n",
    "\n",
    "        MedAgrup=dfUniMed.groupby(['Representante'],as_index=False).count() #agrupar\n",
    "        MedResumen=MedAgrup[['Representante','Linea']]   #crear archivo\n",
    "\n",
    "        #Farmacias\n",
    "        dfUniFar = pd.read_excel(fileFarmacias,0,header=1)\n",
    "        dfUniFar[\"Cod_Repre\"] = dfUniFar.Representante.str[0:5]\n",
    "        dfUniFar[\"Cod_Gerente\"] = dfUniFar.Representante.str[0:3] + \"00\"\n",
    "\n",
    "        FarAgrup=dfUniFar.groupby(['Representante'],as_index=False).count() #agrupar\n",
    "        FarmaciaResumen=FarAgrup[['Representante','Linea']]   #crear archivo\n",
    "\n",
    "        #Archivos de Salida con formato CSV\n",
    "        dfUniMed.to_csv(ruta + archSalidaMedicos)\n",
    "        MedResumen.to_csv(ruta+ \"ResumenMedicos.csv\")  #Zusammenfassung der Artz\n",
    "\n",
    "        dfUniFar.to_csv(ruta + archSalidaFarCSV)\n",
    "        FarmaciaResumen.to_csv(ruta+ \"ResumenPharmacy.csv\")   #Zusammenfassung der Apotheke\n",
    "\n",
    "        tk.messagebox.showinfo(message=\"Das ist die Enden, se guardo en \"+ ruta,title=\"Vorsicht\")\n",
    "        fileMedicos=\"\"\n",
    "        fileFarmacias=\"\"\n",
    "        print(\"termino\")\n",
    "        flag = False\n",
    "\n",
    "    else:\n",
    "        flag=True\n",
    "        tk.messagebox.showinfo(message=\"No se creo ningun archivo\",title=\"Falto un archivo\")\n",
    "        break\n",
    "tk.messagebox.showinfo(message=\"Fin de System\",title=\"Fin de Sistema\")"
   ]
  },
  {
   "attachments": {},
   "cell_type": "markdown",
   "metadata": {},
   "source": [
    "**CREA EL ARCHIVO DE INVENTARIOS CON LOS CODIGOS DE GERENTE Y DE REPRE para el inventario**\n",
    "\n",
    "***Se priorisa el uso de seleccionar un archivo desde la ventana de windows para seleccionar***"
   ]
  },
  {
   "cell_type": "code",
   "execution_count": 8,
   "metadata": {},
   "outputs": [
    {
     "name": "stdout",
     "output_type": "stream",
     "text": [
      "la cadena es:  D:/RAYERE/Documents/Descargas/\n"
     ]
    }
   ],
   "source": [
    "###Prueba con traer el archivo de inventarios\n",
    "\n",
    "import pandas as pd\n",
    "from datetime import date\n",
    "from tkinter import filedialog\n",
    "from tkinter import *\n",
    "\n",
    "archSalidaFarCSV = \"Inventario.csv\"\n",
    "#root = Tk()\n",
    "archUniMedFar = filedialog.askopenfilename(filetypes=[(\"Excel file\", \"*.xlsx\")])\n",
    "#arch_ruta = root.filename\n",
    "\n",
    "#archUniMedFar = arch_ruta\n",
    "ultimo_Slash = archUniMedFar.rfind(\"/\")\n",
    "\n",
    "dfInventario = pd.read_excel(archUniMedFar,0,header=4) # Lee el archivo desde el 4 renglon o fila\n",
    "\n",
    "dfInventario[\"Repre\"] = dfInventario.USUARIO.str[0:5]\n",
    "dfInventario[\"Cod_Gerente\"] = dfInventario.USUARIO.str[0:3] + \"00\"\n",
    "dfInventario[\"Total_Real\"] =  (dfInventario[\"Entrada_Cant\"] - dfInventario[\"Salida\"])\n",
    "dfInventarioFinal=dfInventario.iloc[:-2]\n",
    "dfInventarioFinal.drop([\"Total\"],axis=1)\n",
    "\n",
    "if ultimo_Slash != -1:\n",
    "    parte = archUniMedFar[:ultimo_Slash+1]\n",
    "    print(\"la cadena es: \",parte)\n",
    "else:\n",
    "    print(\"No se extrajo la cadena\")\n",
    "\n",
    "dfInventarioFinal.to_csv(parte + \"/\"+archSalidaFarCSV,\",\")"
   ]
  }
 ],
 "metadata": {
  "kernelspec": {
   "display_name": "Python 3.10.6 64-bit",
   "language": "python",
   "name": "python3"
  },
  "language_info": {
   "codemirror_mode": {
    "name": "ipython",
    "version": 3
   },
   "file_extension": ".py",
   "mimetype": "text/x-python",
   "name": "python",
   "nbconvert_exporter": "python",
   "pygments_lexer": "ipython3",
   "version": "3.10.6"
  },
  "orig_nbformat": 4,
  "vscode": {
   "interpreter": {
    "hash": "a261e2ff76066ea715d80fe93bd7c5bc3d859698cfcab0f33f209154258a6799"
   }
  }
 },
 "nbformat": 4,
 "nbformat_minor": 2
}
