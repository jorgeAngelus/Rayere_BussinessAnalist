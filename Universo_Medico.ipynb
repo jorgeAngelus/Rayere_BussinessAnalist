{
 "cells": [
  {
   "attachments": {},
   "cell_type": "markdown",
   "metadata": {},
   "source": [
    "# Dar formato a archivo de Listado Medico #"
   ]
  },
  {
   "cell_type": "code",
   "execution_count": 2,
   "metadata": {},
   "outputs": [],
   "source": [
    "import pandas as pd\n",
    "from datetime import date\n",
    "\n",
    "ruta= \"D:/RAYERE/PYTHON/Medicos y Farmacias para Arcgis/\"\n",
    "#ruta= input(\"Extrae una Ruta\") #\"D:/RAYERE/Documents/Descargas/\" \"D:/RAYERE/PYTHON/Medicos y Farmacias para Arcgis/\"\n",
    "nomarch= input(\"nombre del archivo de MEDICOS\")#\"listadoMedicos(2).xlsx\"\n",
    "\n",
    "archSalida = \"Universo_Medico\"+ \".xlsx\"\n",
    "archUniMed = ruta + nomarch + \".xlsx\" ##input(\"ingresa la ruta del archivo y el nombre del archivo\")\n",
    "\n",
    "dfUniMed = pd.read_excel(archUniMed,sheet_name= \"Sheet1\")\n",
    "dfUniMed[\"Cod_Repre\"] = dfUniMed.Representante.str[0:5]\n",
    "dfUniMed[\"Cod_Gerente\"] = dfUniMed.Representante.str[0:3] + \"00\"\n",
    "\n",
    "#dfUniMed\n",
    "dfUniMed.to_excel(ruta+archSalida)"
   ]
  },
  {
   "attachments": {},
   "cell_type": "markdown",
   "metadata": {},
   "source": [
    "# Dar formato a archivo de Listado Farmacias #"
   ]
  },
  {
   "cell_type": "code",
   "execution_count": 1,
   "metadata": {},
   "outputs": [],
   "source": [
    "#import pandas as pd\n",
    "#from datetime import date\n",
    "rutaFar= \"D:/RAYERE/PYTHON/Medicos y Farmacias para Arcgis/\"\n",
    "#rutaFar= input(\"Extrae una Ruta\") #\"D:/RAYERE/Documents/Descargas/\" \"D:/RAYERE/PYTHON/Medicos y Farmacias para Arcgis/\"\n",
    "nomarchFar= input(\"nombre del archivo de FARMACIAS\")#\"listadoMedicos(2).xlsx\"\n",
    "\n",
    "archSalidaFar = \"Universo_Farmacias.xlsx\"\n",
    "archSalidaFarCSV = \"Universo_Farmacias.csv\"\n",
    "archUniMedFar = rutaFar + nomarchFar + \".xlsx\" ##input(\"ingresa la ruta del archivo y el nombre del archivo\")\n",
    "\n",
    "dfUniFar = pd.read_excel(archUniMedFar,sheet_name= \"Sheet1\")\n",
    "dfUniFar[\"Cod_Repre\"] = dfUniFar.Representante.str[0:5]\n",
    "dfUniFar[\"Cod_Gerente\"] = dfUniFar.Representante.str[0:3] + \"00\"\n",
    "\n",
    "#dfUniMed\n",
    "#dfUniFar.to_excel(rutaFar + archSalidaFar)\n",
    "dfUniFar.to_csv(rutaFar + archSalidaFarCSV,\",\")"
   ]
  }
 ],
 "metadata": {
  "kernelspec": {
   "display_name": "Python 3.10.6 64-bit",
   "language": "python",
   "name": "python3"
  },
  "language_info": {
   "codemirror_mode": {
    "name": "ipython",
    "version": 3
   },
   "file_extension": ".py",
   "mimetype": "text/x-python",
   "name": "python",
   "nbconvert_exporter": "python",
   "pygments_lexer": "ipython3",
   "version": "3.10.6"
  },
  "orig_nbformat": 4,
  "vscode": {
   "interpreter": {
    "hash": "a261e2ff76066ea715d80fe93bd7c5bc3d859698cfcab0f33f209154258a6799"
   }
  }
 },
 "nbformat": 4,
 "nbformat_minor": 2
}
