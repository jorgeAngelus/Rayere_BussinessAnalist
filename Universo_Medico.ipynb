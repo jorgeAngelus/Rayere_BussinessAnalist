{
 "cells": [
  {
   "cell_type": "markdown",
   "metadata": {},
   "source": [
    "# dar formato a archivo de Listado Medico #"
   ]
  },
  {
   "cell_type": "code",
   "execution_count": 1,
   "metadata": {},
   "outputs": [],
   "source": [
    "import pandas as pd\n",
    "from datetime import date\n",
    "\n",
    "ruta= input(\"Extrae una Ruta\") #\"D:/RAYERE/Documents/Descargas/\"\n",
    "nomarch= input(\"nombre del archivo\")#\"listadoMedicos(2).xlsx\"\n",
    "\n",
    "fecha = date.today().strftime(\"%m\")\n",
    "\n",
    "archSalida = \"Universo_Medico_\"+ fecha + \".xlsx\"\n",
    "archUniMed = ruta + nomarch + \".xlsx\" ##input(\"ingresa la ruta del archivo y el nombre del archivo\")\n",
    "\n",
    "dfUniMed = pd.read_excel(archUniMed,sheet_name= \"Sheet1\")\n",
    "dfUniMed[\"Cod_Repre\"] = dfUniMed.Representante.str[0:5]\n",
    "dfUniMed[\"Cod_Gerente\"] = dfUniMed.Representante.str[0:3] + \"00\"\n",
    "\n",
    "#dfUniMed\n",
    "dfUniMed.to_excel(ruta+archSalida)"
   ]
  }
 ],
 "metadata": {
  "kernelspec": {
   "display_name": "Python 3.10.6 64-bit",
   "language": "python",
   "name": "python3"
  },
  "language_info": {
   "codemirror_mode": {
    "name": "ipython",
    "version": 3
   },
   "file_extension": ".py",
   "mimetype": "text/x-python",
   "name": "python",
   "nbconvert_exporter": "python",
   "pygments_lexer": "ipython3",
   "version": "3.10.6 (tags/v3.10.6:9c7b4bd, Aug  1 2022, 21:53:49) [MSC v.1932 64 bit (AMD64)]"
  },
  "orig_nbformat": 4,
  "vscode": {
   "interpreter": {
    "hash": "a261e2ff76066ea715d80fe93bd7c5bc3d859698cfcab0f33f209154258a6799"
   }
  }
 },
 "nbformat": 4,
 "nbformat_minor": 2
}
