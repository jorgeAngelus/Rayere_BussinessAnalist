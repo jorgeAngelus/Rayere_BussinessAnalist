{
 "cells": [
  {
   "attachments": {},
   "cell_type": "markdown",
   "metadata": {},
   "source": [
    "# Dar formato a archivo de Listado Medico #\n",
    "\n",
    "Estos archivos son el universo Medico y el Universo de Farmacias, nos sirven para poder subirlos a Notion y tener un Resumen.\n",
    "\n",
    "Estos Archivos son necesarios que se guarden en formato CSV."
   ]
  },
  {
   "cell_type": "code",
   "execution_count": 1,
   "metadata": {},
   "outputs": [],
   "source": [
    "#librerias\n",
    "\n",
    "import pandas as pd\n",
    "from tkinter import filedialog\n",
    "from datetime import date\n",
    "import tkinter as tk"
   ]
  },
  {
   "cell_type": "markdown",
   "metadata": {},
   "source": [
    "<h2>Funciones<h2>"
   ]
  },
  {
   "cell_type": "code",
   "execution_count": 4,
   "metadata": {},
   "outputs": [],
   "source": [
    "#Agrega  Cod Repre y Gerencia\n",
    "\n",
    "def AgregaCodRepreGerente (ArchivoUniversos):\n",
    "    dfUniverso = pd.read_excel(ArchivoUniversos,0,header=1,na_values=0)\n",
    "    dfUniverso[\"Cod_Repre\"] = dfUniverso.Representante.str[0:5]\n",
    "    dfUniverso[\"Cod_Gerente\"] = dfUniverso.Representante.str[0:3] + \"00\"   #este es el que se genera\n",
    "\n",
    "    return dfUniverso\n",
    "\n",
    "\n",
    "\n",
    "def CreaResumen (dfConCodigo):\n",
    "    dfAgrup=dfConCodigo.groupby(['Representante'],as_index=False).count() #agrupar\n",
    "    dfResumen=dfAgrup[['Representante','Linea']]   #crear archivo\n",
    "\n",
    "    return dfResumen\n"
   ]
  },
  {
   "cell_type": "code",
   "execution_count": 5,
   "metadata": {},
   "outputs": [
    {
     "name": "stdout",
     "output_type": "stream",
     "text": [
      "Medicos D:/RAYERE/Downloads/Listado_Medicos_12-08-2024.xlsx D:/RAYERE/PYTHON/Medicos y Farmacias para Arcgis/Universo_Medico.csv D:/RAYERE/PYTHON/Medicos y Farmacias para Arcgis/ResumenMedicos.csv\n",
      "se ha creado el archivo: D:/RAYERE/Downloads/Listado_Medicos_12-08-2024.xlsx\n",
      "Farmacia D:/RAYERE/Downloads/Listado_Farmacias_12-08-2024.xlsx D:/RAYERE/PYTHON/Medicos y Farmacias para Arcgis/Universo_Farmacias.csv D:/RAYERE/PYTHON/Medicos y Farmacias para Arcgis/ResumenFarmacy.csv\n",
      "se ha creado el archivo: D:/RAYERE/Downloads/Listado_Farmacias_12-08-2024.xlsx\n",
      "Hospital D:/RAYERE/Downloads/Listado_Hospitales_12-08-2024.xlsx D:/RAYERE/PYTHON/Medicos y Farmacias para Arcgis/Universo_Hospitales.csv D:/RAYERE/PYTHON/Medicos y Farmacias para Arcgis/ResumenHospital.csv\n",
      "se ha creado el archivo: D:/RAYERE/Downloads/Listado_Hospitales_12-08-2024.xlsx\n",
      "termino\n"
     ]
    },
    {
     "data": {
      "text/plain": [
       "'ok'"
      ]
     },
     "execution_count": 5,
     "metadata": {},
     "output_type": "execute_result"
    }
   ],
   "source": [
    "#Seleccion de Archivos\n",
    "fileMedicos = filedialog.askopenfilename(title=\"Universo Medico del CRM\",initialdir=\"D:/\",filetypes=[(\"Archivo de Excel\",\"*.xlsx\")])\n",
    "fileFarmacias = filedialog.askopenfilename(title=\"Farmacias del CRM\",initialdir=\"D:/\",filetypes=[(\"Archivo de Excel\",\"*.xlsx\")])\n",
    "fileHospitales = filedialog.askopenfilename(title=\"Hospitales del CRM\",initialdir=\"D:/\",filetypes=[(\"Archivo de Excel\",\"*.xlsx\")])\n",
    "\n",
    "ruta= \"D:/RAYERE/PYTHON/Medicos y Farmacias para Arcgis/\"\n",
    "\n",
    " #nombre de los archivos de Salida\n",
    "archSalidaMedicos = \"Universo_Medico.csv\"\n",
    "archSalidaFarCSV = \"Universo_Farmacias.csv\"\n",
    "archSalidaHospCSV = \"Universo_Hospitales.csv\"\n",
    "\n",
    "diccionario = {\"Medicos\":[fileMedicos,ruta+archSalidaMedicos,ruta+ \"ResumenMedicos.csv\"],\"Farmacia\":[fileFarmacias,ruta+archSalidaFarCSV,ruta+ \"ResumenFarmacy.csv\"],\"Hospital\":[fileHospitales,ruta+archSalidaHospCSV,ruta+ \"ResumenHospital.csv\"]}\n",
    "\n",
    "for key,value in diccionario.items():\n",
    "    print (key, value[0],value[1],value[2])\n",
    "\n",
    "    dfUniConCod = AgregaCodRepreGerente(value[0])  # ya se agrego el codigo de repre y Gerente\n",
    "    \n",
    "    #dfAgrup=dfUniConCod.groupby(['Representante'],as_index=False).count() #agrupar\n",
    "    #dfResumen=dfAgrup[['Representante','Linea']]   #crear archivo\n",
    "\n",
    "    dfResumen = CreaResumen(dfUniConCod) #crea la agrupacion y el df con resumen\n",
    "\n",
    "\n",
    "    #Archivos de Salida con formato CSV\n",
    "        \n",
    "    dfUniConCod.to_csv(value[1],index=False)\n",
    "    dfResumen.to_csv(value[2],index=False)   #das ist Zusammenfassung die Apotheken\n",
    "\n",
    "    print(\"se ha creado el archivo: {}\".format(value[0]))\n",
    "\n",
    "print(\"termino\")\n",
    "flag = False\n",
    "\n",
    "tk.messagebox.showinfo(message=\"Die Dateien schaffen gut\",title=\"Alles Gut\")"
   ]
  },
  {
   "attachments": {},
   "cell_type": "markdown",
   "metadata": {},
   "source": [
    "**CREA EL ARCHIVO DE INVENTARIOS CON LOS CODIGOS DE GERENTE Y DE REPRE para el inventario**\n",
    "\n"
   ]
  },
  {
   "cell_type": "code",
   "execution_count": 8,
   "metadata": {},
   "outputs": [
    {
     "name": "stdout",
     "output_type": "stream",
     "text": [
      "la cadena es:  D:/RAYERE/Documents/Descargas/\n"
     ]
    }
   ],
   "source": [
    "###Prueba con traer el archivo de inventarios\n",
    "\n",
    "import pandas as pd\n",
    "from datetime import date\n",
    "from tkinter import filedialog\n",
    "from tkinter import *\n",
    "\n",
    "archSalidaFarCSV = \"Inventario.csv\"\n",
    "#root = Tk()\n",
    "archUniMedFar = filedialog.askopenfilename(filetypes=[(\"Excel file\", \"*.xlsx\")])\n",
    "#arch_ruta = root.filename\n",
    "\n",
    "#archUniMedFar = arch_ruta\n",
    "ultimo_Slash = archUniMedFar.rfind(\"/\")\n",
    "\n",
    "dfInventario = pd.read_excel(archUniMedFar,0,header=4) # Lee el archivo desde el 4 renglon o fila\n",
    "\n",
    "dfInventario[\"Repre\"] = dfInventario.USUARIO.str[0:5]\n",
    "dfInventario[\"Cod_Gerente\"] = dfInventario.USUARIO.str[0:3] + \"00\"\n",
    "dfInventario[\"Total_Real\"] =  (dfInventario[\"Entrada_Cant\"] - dfInventario[\"Salida\"])\n",
    "dfInventarioFinal=dfInventario.iloc[:-2]\n",
    "dfInventarioFinal.drop([\"Total\"],axis=1)\n",
    "\n",
    "if ultimo_Slash != -1:\n",
    "    parte = archUniMedFar[:ultimo_Slash+1]\n",
    "    print(\"la cadena es: \",parte)\n",
    "else:\n",
    "    print(\"No se extrajo la cadena\")\n",
    "\n",
    "dfInventarioFinal.to_csv(parte + \"/\"+archSalidaFarCSV,\",\")"
   ]
  }
 ],
 "metadata": {
  "kernelspec": {
   "display_name": "Python 3.10.6 64-bit",
   "language": "python",
   "name": "python3"
  },
  "language_info": {
   "codemirror_mode": {
    "name": "ipython",
    "version": 3
   },
   "file_extension": ".py",
   "mimetype": "text/x-python",
   "name": "python",
   "nbconvert_exporter": "python",
   "pygments_lexer": "ipython3",
   "version": "3.10.6"
  },
  "orig_nbformat": 4,
  "vscode": {
   "interpreter": {
    "hash": "a261e2ff76066ea715d80fe93bd7c5bc3d859698cfcab0f33f209154258a6799"
   }
  }
 },
 "nbformat": 4,
 "nbformat_minor": 2
}
