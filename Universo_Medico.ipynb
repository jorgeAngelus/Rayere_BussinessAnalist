{
 "cells": [
  {
   "attachments": {},
   "cell_type": "markdown",
   "metadata": {},
   "source": [
    "# Dar formato a archivo de Listado Medico #\n",
    "\n",
    "Estos archivos son el universo Medico y el Universo de Farmacias, nos sirven para poder subirlos a Notion y tener un Resumen.\n",
    "\n",
    "Estos Archivos son necesarios que se guarden en formato CSV."
   ]
  },
  {
   "cell_type": "code",
   "execution_count": 1,
   "metadata": {},
   "outputs": [],
   "source": [
    "#librerias\n",
    "import pandas as pd\n",
    "from tkinter import filedialog\n",
    "from datetime import date\n",
    "import tkinter as tk"
   ]
  },
  {
   "cell_type": "markdown",
   "metadata": {},
   "source": [
    "<h2>Funciones<h2>"
   ]
  },
  {
   "cell_type": "code",
   "execution_count": 5,
   "metadata": {},
   "outputs": [],
   "source": [
    "#Agrega  Cod Repre y Gerencia\n",
    "\n",
    "def AgregaCodRepreGerente (ArchivoUniversos):\n",
    "    dfUniverso = pd.read_excel(ArchivoUniversos,0,header=1,na_values=0)\n",
    "    dfUniverso[\"Cod_Repre\"] = dfUniverso.Representante.str[0:5]\n",
    "    dfUniverso[\"Cod_Gerente\"] = dfUniverso.Representante.str[0:3] + \"00\"   #este es el que se genera\n",
    "\n",
    "    return dfUniverso\n",
    "\n",
    "\n",
    "\n",
    "def CreaResumen (dfConCodigo):\n",
    "    dfAgrup=dfConCodigo.groupby(['Representante'],as_index=False).count() #agrupar\n",
    "    dfResumen=dfAgrup[['Representante','Linea']]   #crear archivo\n",
    "\n",
    "    return dfResumen\n"
   ]
  },
  {
   "cell_type": "code",
   "execution_count": 6,
   "metadata": {},
   "outputs": [
    {
     "name": "stdout",
     "output_type": "stream",
     "text": [
      "Medicos D:/RAYERE/Downloads/Listado_Medicos_17-10-2024.xlsx D:/RAYERE/PYTHON/Medicos y Farmacias para Arcgis/Universo_Medico.csv D:/RAYERE/PYTHON/Medicos y Farmacias para Arcgis/ResumenMedicos.csv\n",
      "se ha creado el archivo: D:/RAYERE/Downloads/Listado_Medicos_17-10-2024.xlsx\n",
      "Farmacia D:/RAYERE/Downloads/Listado_Farmacias_17-10-2024.xlsx D:/RAYERE/PYTHON/Medicos y Farmacias para Arcgis/Universo_Farmacias.csv D:/RAYERE/PYTHON/Medicos y Farmacias para Arcgis/ResumenFarmacy.csv\n",
      "se ha creado el archivo: D:/RAYERE/Downloads/Listado_Farmacias_17-10-2024.xlsx\n",
      "Hospital D:/RAYERE/Downloads/Listado_Hospitales_17-10-2024.xlsx D:/RAYERE/PYTHON/Medicos y Farmacias para Arcgis/Universo_Hospitales.csv D:/RAYERE/PYTHON/Medicos y Farmacias para Arcgis/ResumenHospital.csv\n",
      "se ha creado el archivo: D:/RAYERE/Downloads/Listado_Hospitales_17-10-2024.xlsx\n",
      "termino\n"
     ]
    },
    {
     "data": {
      "text/plain": [
       "'ok'"
      ]
     },
     "execution_count": 6,
     "metadata": {},
     "output_type": "execute_result"
    }
   ],
   "source": [
    "#Seleccion de Archivos\n",
    "fileMedicos = filedialog.askopenfilename(title=\"Universo Medico del CRM\",initialdir=\"D:/\",filetypes=[(\"Archivo de Excel\",\"*.xlsx\")])\n",
    "fileFarmacias = filedialog.askopenfilename(title=\"Farmacias del CRM\",initialdir=\"D:/\",filetypes=[(\"Archivo de Excel\",\"*.xlsx\")])\n",
    "fileHospitales = filedialog.askopenfilename(title=\"Hospitales del CRM\",initialdir=\"D:/\",filetypes=[(\"Archivo de Excel\",\"*.xlsx\")])\n",
    "\n",
    "ruta= \"D:/RAYERE/PYTHON/Medicos y Farmacias para Arcgis/\"\n",
    "\n",
    " #nombre de los archivos de Salida\n",
    "archSalidaMedicos = \"Universo_Medico.csv\"\n",
    "archSalidaFarCSV = \"Universo_Farmacias.csv\"\n",
    "archSalidaHospCSV = \"Universo_Hospitales.csv\"\n",
    "\n",
    "diccionario = {\"Medicos\":[fileMedicos,ruta+archSalidaMedicos,ruta+ \"ResumenMedicos.csv\"],\"Farmacia\":[fileFarmacias,ruta+archSalidaFarCSV,ruta+ \"ResumenFarmacy.csv\"],\"Hospital\":[fileHospitales,ruta+archSalidaHospCSV,ruta+ \"ResumenHospital.csv\"]}\n",
    "\n",
    "for key,value in diccionario.items():\n",
    "    print (key, value[0],value[1],value[2])\n",
    "\n",
    "    dfUniConCod = AgregaCodRepreGerente(value[0])  # ya se agrego el codigo de repre y Gerente\n",
    "    \n",
    "    dfResumen = CreaResumen(dfUniConCod) #crea la agrupacion y el df con resumen\n",
    "\n",
    "    #Archivos de Salida con formato CSV\n",
    "        \n",
    "    dfUniConCod.to_csv(value[1],index=False)\n",
    "    dfResumen.to_csv(value[2],index=False)   #das ist Zusammenfassung die Apotheken\n",
    "\n",
    "    print(\"se ha creado el archivo: {}\".format(value[0]))\n",
    "\n",
    "print(\"termino\")\n",
    "flag = False\n",
    "\n",
    "tk.messagebox.showinfo(message=\"Die Daten wurden korrekt erstellt\",title=\"Alles Gut\")"
   ]
  },
  {
   "cell_type": "code",
   "execution_count": null,
   "metadata": {},
   "outputs": [],
   "source": []
  }
 ],
 "metadata": {
  "kernelspec": {
   "display_name": "Python 3",
   "language": "python",
   "name": "python3"
  },
  "language_info": {
   "codemirror_mode": {
    "name": "ipython",
    "version": 3
   },
   "file_extension": ".py",
   "mimetype": "text/x-python",
   "name": "python",
   "nbconvert_exporter": "python",
   "pygments_lexer": "ipython3",
   "version": "3.10.6"
  },
  "orig_nbformat": 4
 },
 "nbformat": 4,
 "nbformat_minor": 2
}
