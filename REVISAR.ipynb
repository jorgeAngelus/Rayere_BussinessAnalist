{
 "cells": [
  {
   "cell_type": "code",
   "execution_count": 2,
   "metadata": {},
   "outputs": [
    {
     "name": "stdout",
     "output_type": "stream",
     "text": [
      "listadoFarmacias_19052023.xlsx\n",
      "Farmacias_19052023\n",
      "listadoFarmacias_19052023_2.xlsx\n",
      "Farmacias_19052023_2\n",
      "listadoMedicos_19052023.xlsx\n",
      "Medicos_19052023\n",
      "listadoMedicos_19052023_2.xlsx\n",
      "Medicos_19052023_2\n"
     ]
    },
    {
     "data": {
      "text/plain": [
       "'ok'"
      ]
     },
     "execution_count": 2,
     "metadata": {},
     "output_type": "execute_result"
    }
   ],
   "source": [
    "import pandas as pd\n",
    "import numpy as np\n",
    "import os\n",
    "import matplotlib.pyplot as plt\n",
    "from tkinter import messagebox\n",
    "\n",
    "\n",
    "ruta = 'D:/RAYERE/Documents/Descargas/excelesPrueba/'\n",
    "#messagebox.showinfo(\"Ruta\",ruta)\n",
    "\n",
    "contenido = os.listdir(ruta) #listado de archivos en Ruta \n",
    "archExceles = []\n",
    "for fichero in contenido:\n",
    "    if os.path.isfile(os.path.join(ruta,fichero)) and fichero.endswith('.xlsx'):  #obtener datos tipo excel\n",
    "        archExceles.append(fichero)\n",
    "        print(fichero)\n",
    "        inicio=fichero.find('_')\n",
    "        final=fichero.find('.')\n",
    "        print(fichero[7:final])\n",
    "        archivo = ruta+fichero\n",
    "        miArch=pd.read_excel(archivo)  # leer archivos\n",
    "        archAgrupado=miArch.groupby(['Representante'],as_index=False).count() #agrupar\n",
    "        archPrev=archAgrupado[['Representante','Linea']]   #crear archivo                       \n",
    "        archPrev.to_csv(ruta+fichero[7:final]+\".csv\")   #crea csv\n",
    "\n",
    "    else: \n",
    "        messagebox.ERROR()\n",
    "        \n",
    "messagebox.showinfo(\"Resultado\",\"Se han creado los archivos de informacion\")\n",
    "\n",
    "    "
   ]
  },
  {
   "cell_type": "code",
   "execution_count": 2,
   "metadata": {},
   "outputs": [
    {
     "name": "stdout",
     "output_type": "stream",
     "text": [
      "Arreglo original:\n",
      " [[ 0  1  2]\n",
      " [ 3  4  5]\n",
      " [ 6  7  8]\n",
      " [ 9 10 11]\n",
      " [12 13 14]\n",
      " [15 16 17]\n",
      " [18 19 20]]\n",
      "Arreglo repetido:\n",
      " [[ 0  1  2]\n",
      " [ 3  4  5]\n",
      " [ 6  7  8]\n",
      " [ 9 10 11]\n",
      " [12 13 14]\n",
      " [15 16 17]\n",
      " [18 19 20]\n",
      " [ 0  1  2]\n",
      " [ 3  4  5]\n",
      " [ 6  7  8]\n",
      " [ 9 10 11]\n",
      " [12 13 14]\n",
      " [15 16 17]\n",
      " [18 19 20]]\n"
     ]
    }
   ],
   "source": [
    "import numpy as np\n",
    "\n",
    "# Crear el arreglo original\n",
    "arreglo_original = np.arange(21).reshape(7, 3)\n",
    "print(\"Arreglo original:\\n\", arreglo_original)\n",
    "\n",
    "# Repetir el arreglo 3 veces\n",
    "arreglo_repetido = np.tile(arreglo_original, (2, 1))\n",
    "print(\"Arreglo repetido:\\n\", arreglo_repetido)\n"
   ]
  },
  {
   "cell_type": "code",
   "execution_count": 17,
   "metadata": {},
   "outputs": [
    {
     "name": "stdout",
     "output_type": "stream",
     "text": [
      "[['P1001' 'P1002' 'P1003' 'P1201' 'Angel']\n",
      " ['P1001' 'P1002' 'P1003' 'P1202' 'Erica']\n",
      " ['P2001' 'P2002' 'P2003' 'P1201' 'Angel']\n",
      " ['P2001' 'P2002' 'P2003' 'P1202' 'Erica']\n",
      " ['P3001' 'P3002' 'P3003' 'P1201' 'Angel']\n",
      " ['P3001' 'P3002' 'P3003' 'P1202' 'Erica']]\n"
     ]
    }
   ],
   "source": [
    "import numpy as np\n",
    "import pandas as pd\n",
    "\n",
    "productos = np.array([\n",
    "    [\"P1001\", \"P1002\", \"P1003\"],\n",
    "    [\"P2001\", \"P2002\", \"P2003\"],\n",
    "    [\"P3001\", \"P3002\", \"P3003\"]\n",
    "])\n",
    "\n",
    "repres = np.array([\n",
    "    [\"P1201\", \"Angel\"],\n",
    "    [\"P1202\", \"Erica\"]\n",
    "])\n",
    "\n",
    "productos_con_columnas_adicionales = np.repeat(productos, len(repres), axis=0)\n",
    "repres_repetido = np.tile(repres, (len(productos), 1))\n",
    "\n",
    "productos_con_columnas_adicionales = np.concatenate((productos_con_columnas_adicionales, repres_repetido), axis=1)\n",
    "\n",
    "\n",
    "print(productos_con_columnas_adicionales)\n",
    "\n",
    "midataframe=pd.DataFrame(productos_con_columnas_adicionales)\n",
    "\n",
    "midataframe.to_excel(\"miexcel.xlsx\")\n"
   ]
  },
  {
   "cell_type": "code",
   "execution_count": 5,
   "metadata": {},
   "outputs": [
    {
     "name": "stdout",
     "output_type": "stream",
     "text": [
      "[['VALGION' 'AYUDA VISUAL VALGION CLT' 'MP' 1\n",
      "  'P1201 Roberto Herrera Cervantes' 'REP 1']\n",
      " ['VALGION' 'AYUDA VISUAL VALGION CLT' 'MP' 1\n",
      "  'P1202 Luís Arturo Rodríguez Páramo' 'REP 2']\n",
      " ['VALGION' 'AYUDA VISUAL VALGION CLT' 'MP' 1\n",
      "  'P1204 Erica Milena Bastida Jimenez' 'REP 3']\n",
      " ...\n",
      " ['DUOFLEX' 'DUOFLEX TABLETA 200 mg/50 mg C/30 ORIGINAL' 'MM' 40\n",
      "  'P1803 Beatriz Adriana Quezada García' 'REP 40']\n",
      " ['DUOFLEX' 'DUOFLEX TABLETA 200 mg/50 mg C/30 ORIGINAL' 'MM' 40\n",
      "  'P1904 Nadia Mireya Pérez Ayala ' 'REP 41']\n",
      " ['DUOFLEX' 'DUOFLEX TABLETA 200 mg/50 mg C/30 ORIGINAL' 'MM' 40\n",
      "  'P1905 José Nolazco Cota' 'REP 42']]\n"
     ]
    }
   ],
   "source": [
    "import pandas as pd\n",
    "import numpy as np\n",
    "\n",
    "path=\"D:/RAYERE/Documents/Investigacion de Mercados/2023/Material X Ciclo/CICLO 6/\"\n",
    "rutasRep = pd.read_excel(path+\"TABCICLO6.xlsx\",sheet_name=\"RUTA REP\")\n",
    "Materiales = pd.read_excel(path+\"TABCICLO6.xlsx\",sheet_name=\"Materiales\")\n",
    " \n",
    "productos= Materiales.to_numpy()\n",
    "#productos\n",
    "\n",
    "repres=rutasRep.to_numpy()\n",
    "\n",
    "\n",
    "\n",
    "productos_con_columnas_adicionales = np.repeat(productos, len(repres), axis=0)\n",
    "repres_repetido = np.tile(repres, (len(productos), 1))\n",
    "\n",
    "productos_con_columnas_adicionales = np.concatenate((productos_con_columnas_adicionales, repres_repetido), axis=1)\n",
    "\n",
    "print(\"------------productos con columnas adicionales--------\")\n",
    "print(productos_con_columnas_adicionales)\n",
    "\n",
    "midataframe=pd.DataFrame(productos_con_columnas_adicionales)\n",
    "\n",
    "midataframe.to_excel(path+\"miexcel.xlsx\")\n",
    "\n"
   ]
  }
 ],
 "metadata": {
  "kernelspec": {
   "display_name": "Python 3",
   "language": "python",
   "name": "python3"
  },
  "language_info": {
   "codemirror_mode": {
    "name": "ipython",
    "version": 3
   },
   "file_extension": ".py",
   "mimetype": "text/x-python",
   "name": "python",
   "nbconvert_exporter": "python",
   "pygments_lexer": "ipython3",
   "version": "3.10.6"
  },
  "orig_nbformat": 4
 },
 "nbformat": 4,
 "nbformat_minor": 2
}
