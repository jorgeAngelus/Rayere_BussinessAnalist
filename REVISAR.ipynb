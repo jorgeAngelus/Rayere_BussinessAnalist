{
 "cells": [
  {
   "cell_type": "code",
   "execution_count": 1,
   "metadata": {},
   "outputs": [
    {
     "name": "stdout",
     "output_type": "stream",
     "text": [
      "listadoFarmacias_27042023.xlsx\n",
      "Farmacias_27042023\n",
      "listadoMedicos_27042023.xlsx\n",
      "Medicos_27042023\n"
     ]
    },
    {
     "data": {
      "text/plain": [
       "'ok'"
      ]
     },
     "execution_count": 1,
     "metadata": {},
     "output_type": "execute_result"
    }
   ],
   "source": [
    "import pandas as pd\n",
    "import numpy as np\n",
    "import os\n",
    "import matplotlib.pyplot as plt\n",
    "from tkinter import messagebox\n",
    "\n",
    "\n",
    "ruta = 'D:/RAYERE/Documents/Descargas/excelesPrueba/'\n",
    "messagebox.showinfo(\"Ruta\",ruta)\n",
    "\n",
    "contenido = os.listdir(ruta) #listado de archivos en Ruta \n",
    "archExceles = []\n",
    "for fichero in contenido:\n",
    "    if os.path.isfile(os.path.join(ruta,fichero)) and fichero.endswith('.xlsx'):  #obtener datos tipo excel\n",
    "        archExceles.append(fichero)\n",
    "        print(fichero)\n",
    "        inicio=fichero.find('_')\n",
    "        final=fichero.find('.')\n",
    "        print(fichero[7:final])\n",
    "        archivo = ruta+fichero\n",
    "        miArch=pd.read_excel(archivo)  # leer archivos\n",
    "        archAgrupado=miArch.groupby(['Representante'],as_index=False).count() #agrupar\n",
    "        archPrev=archAgrupado[['Representante','Linea']]   #crear archivo                       \n",
    "        archPrev.to_csv(ruta+fichero[7:final]+\".csv\")   #crea csv\n",
    "\n",
    "    else: \n",
    "        messagebox.ERROR()\n",
    "        \n",
    "messagebox.showinfo(\"Resultado\",\"Se han creado los archivos de informacion\")\n",
    "\n",
    "    "
   ]
  }
 ],
 "metadata": {
  "kernelspec": {
   "display_name": "Python 3",
   "language": "python",
   "name": "python3"
  },
  "language_info": {
   "codemirror_mode": {
    "name": "ipython",
    "version": 3
   },
   "file_extension": ".py",
   "mimetype": "text/x-python",
   "name": "python",
   "nbconvert_exporter": "python",
   "pygments_lexer": "ipython3",
   "version": "3.10.6"
  },
  "orig_nbformat": 4
 },
 "nbformat": 4,
 "nbformat_minor": 2
}
