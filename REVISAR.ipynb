{
 "cells": [
  {
   "attachments": {},
   "cell_type": "markdown",
   "metadata": {},
   "source": [
    "**Crea el archivo de Inventarios para enviarlo a Smart Scale**"
   ]
  },
  {
   "cell_type": "code",
   "execution_count": 7,
   "metadata": {},
   "outputs": [
    {
     "name": "stdout",
     "output_type": "stream",
     "text": [
      "D:/RAYERE/Documents/Investigacion de Mercados/2023/Material X Ciclo/CICLO 9\n"
     ]
    },
    {
     "data": {
      "text/plain": [
       "'ok'"
      ]
     },
     "execution_count": 7,
     "metadata": {},
     "output_type": "execute_result"
    }
   ],
   "source": [
    "import pandas as pd\n",
    "import numpy as np\n",
    "from tkinter import filedialog, simpledialog\n",
    "import os\n",
    "from pathlib import Path\n",
    "import tkinter as tk\n",
    "\n",
    "pathMaterialCiclo = \"D:/RAYERE/Documents/Investigacion de Mercados/2023/Material X Ciclo\"\n",
    "\n",
    "lote = simpledialog.askstring(title=\"LOTE DE MATERIALES\",prompt=\"Agregue el lote al que pertenecen los Materiales y MM\")\n",
    "oderPath = filedialog.askopenfilename(title=\"Archivo de Inventarios para SmartScale\",initialdir = pathMaterialCiclo ,filetypes=[(\"Archivo de Excel\",\"*.xlsx\")])\n",
    "ciclo = lote[-2:]\n",
    "\n",
    "path=os.path.dirname(oderPath)\n",
    "print(path)\n",
    "rutasRep = pd.read_excel(oderPath,sheet_name=\"RUTA REP\")\n",
    "Materiales = pd.read_excel(oderPath,sheet_name=\"Materiales\")\n",
    " \n",
    "productos= Materiales.to_numpy()\n",
    "\n",
    "repres=rutasRep.to_numpy()\n",
    "\n",
    "productos_con_columnas_adicionales = np.repeat(productos, len(repres), axis=0)\n",
    "repres_repetido = np.tile(repres, (len(productos), 1))\n",
    "\n",
    "productos_con_columnas_adicionales = np.concatenate((productos_con_columnas_adicionales, repres_repetido), axis=1)\n",
    "\n",
    "midataframe=pd.DataFrame(productos_con_columnas_adicionales,columns=['FAMILIA','PRODUCTOS','TIPO DE MATERIAL','CANTIDAD','RUTA','REPRESENTANTE'])\n",
    "\n",
    "neunDF = midataframe.assign(LOTE= lote)\n",
    "\n",
    "neunDF = neunDF[['RUTA','REPRESENTANTE','FAMILIA','PRODUCTOS','TIPO DE MATERIAL','LOTE','CANTIDAD']]\n",
    "\n",
    "neunDF = neunDF.sort_values('RUTA',ascending=True)\n",
    "neunDF\n",
    "neunDF.to_excel(path+\"/MATERIAL CICLO \"+ciclo+\".xlsx\",sheet_name=\"Material\")\n",
    "\n",
    "resp=tk.messagebox.showinfo(message=\"Archivo de ciclo \"+ciclo+\" para Smarth Scale Terminado con exito\",title=\"Vorsicht\")\n",
    "print(\"Todo esta \" + resp)"
   ]
  }
 ],
 "metadata": {
  "kernelspec": {
   "display_name": "Python 3",
   "language": "python",
   "name": "python3"
  },
  "language_info": {
   "codemirror_mode": {
    "name": "ipython",
    "version": 3
   },
   "file_extension": ".py",
   "mimetype": "text/x-python",
   "name": "python",
   "nbconvert_exporter": "python",
   "pygments_lexer": "ipython3",
   "version": "3.10.6"
  },
  "orig_nbformat": 4
 },
 "nbformat": 4,
 "nbformat_minor": 2
}
