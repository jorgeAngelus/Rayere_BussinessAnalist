{
 "cells": [
  {
   "attachments": {},
   "cell_type": "markdown",
   "metadata": {},
   "source": [
    "**Crea los archivos que generan un resumen de los universos medicos y de las farmacias**"
   ]
  },
  {
   "cell_type": "code",
   "execution_count": 1,
   "metadata": {},
   "outputs": [
    {
     "name": "stdout",
     "output_type": "stream",
     "text": [
      "listadoFarmacias_12072023.xlsx\n",
      "Farmacias_12072023\n",
      "listadoFarmacias_19072023.xlsx\n",
      "Farmacias_19072023\n",
      "listadoMedicos_12072023.xlsx\n",
      "Medicos_12072023\n",
      "listadoMedicos_19072023.xlsx\n",
      "Medicos_19072023\n"
     ]
    },
    {
     "data": {
      "text/plain": [
       "'ok'"
      ]
     },
     "execution_count": 1,
     "metadata": {},
     "output_type": "execute_result"
    }
   ],
   "source": [
    "import pandas as pd\n",
    "import numpy as np\n",
    "import os\n",
    "import matplotlib.pyplot as plt\n",
    "from tkinter import messagebox\n",
    "\n",
    "\n",
    "ruta = 'D:/RAYERE/Documents/Descargas/excelesPrueba/'\n",
    "#messagebox.showinfo(\"Ruta\",ruta)\n",
    "\n",
    "contenido = os.listdir(ruta) #listado de archivos en Ruta \n",
    "archExceles = []\n",
    "for fichero in contenido:\n",
    "    if os.path.isfile(os.path.join(ruta,fichero)) and fichero.endswith('.xlsx'):  #obtener datos tipo excel\n",
    "        archExceles.append(fichero)\n",
    "        print(fichero)\n",
    "        inicio=fichero.find('_')\n",
    "        final=fichero.find('.')\n",
    "        print(fichero[7:final])\n",
    "        archivo = ruta+fichero\n",
    "        miArch=pd.read_excel(archivo)  # leer archivos\n",
    "        archAgrupado=miArch.groupby(['Representante'],as_index=False).count() #agrupar\n",
    "        archPrev=archAgrupado[['Representante','Linea']]   #crear archivo                       \n",
    "        archPrev.to_csv(ruta+fichero[7:final]+\".csv\")   #crea csv\n",
    "\n",
    "    else: \n",
    "        messagebox.ERROR()\n",
    "        \n",
    "messagebox.showinfo(\"Resultado\",\"Se han creado los archivos de informacion\")\n",
    "\n",
    "    "
   ]
  },
  {
   "attachments": {},
   "cell_type": "markdown",
   "metadata": {},
   "source": [
    "**Crea el archivo de Inventarios para enviarlo a Smart Scale**"
   ]
  },
  {
   "cell_type": "code",
   "execution_count": 30,
   "metadata": {},
   "outputs": [],
   "source": [
    "import pandas as pd\n",
    "import numpy as np\n",
    "import os\n",
    "from pathlib import Path\n",
    "\n",
    "\n",
    "lote = input(\"Agregue el lote al que pertenecen los Materiales y MM\")\n",
    "path=\"D:/RAYERE/Documents/Investigacion de Mercados/2023/Material X Ciclo/CICLO 8/\"\n",
    "rutasRep = pd.read_excel(path+\"TABCICLO8.xlsx\",sheet_name=\"RUTA REP\")\n",
    "Materiales = pd.read_excel(path+\"TABCICLO8.xlsx\",sheet_name=\"Materiales\")\n",
    " \n",
    "productos= Materiales.to_numpy()\n",
    "#productos\n",
    "\n",
    "repres=rutasRep.to_numpy()\n",
    "\n",
    "\n",
    "\n",
    "productos_con_columnas_adicionales = np.repeat(productos, len(repres), axis=0)\n",
    "repres_repetido = np.tile(repres, (len(productos), 1))\n",
    "\n",
    "productos_con_columnas_adicionales = np.concatenate((productos_con_columnas_adicionales, repres_repetido), axis=1)\n",
    "\n",
    "midataframe=pd.DataFrame(productos_con_columnas_adicionales,columns=['FAMILIA','PRODUCTOS','TIPO DE MATERIAL','CANTIDAD','RUTA','REPRESENTANTE'])\n",
    "\n",
    "neunDF = midataframe.assign(LOTE= lote)\n",
    "\n",
    "neunDF= neunDF[['RUTA','REPRESENTANTE','FAMILIA','PRODUCTOS','TIPO DE MATERIAL','LOTE','CANTIDAD']]\n",
    "\n",
    "neunDF\n",
    "\n",
    "neunDF.to_excel(path+\"MATERIAL CICLO7.xlsx\")\n",
    "\n"
   ]
  },
  {
   "cell_type": "code",
   "execution_count": 4,
   "metadata": {},
   "outputs": [
    {
     "name": "stdout",
     "output_type": "stream",
     "text": [
      "Listo\n"
     ]
    }
   ],
   "source": [
    "import pandas as pd\n",
    "\n",
    "mipd = pd.read_csv(\"D:/RAYERE/Documents/Descargas/Listado_MedicosPlaneados_.csv\",delimiter=\";\")\n",
    "mipd.to_excel(\"D:/RAYERE/Documents/Descargas/Listado_MedicosPlaneados.xlsx\",sheet_name=\"Prueba\")\n",
    "\n",
    "print(\"Listo\")"
   ]
  }
 ],
 "metadata": {
  "kernelspec": {
   "display_name": "Python 3",
   "language": "python",
   "name": "python3"
  },
  "language_info": {
   "codemirror_mode": {
    "name": "ipython",
    "version": 3
   },
   "file_extension": ".py",
   "mimetype": "text/x-python",
   "name": "python",
   "nbconvert_exporter": "python",
   "pygments_lexer": "ipython3",
   "version": "3.10.6"
  },
  "orig_nbformat": 4
 },
 "nbformat": 4,
 "nbformat_minor": 2
}
