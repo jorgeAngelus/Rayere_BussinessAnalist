{
 "cells": [
  {
   "attachments": {},
   "cell_type": "markdown",
   "metadata": {},
   "source": [
    "**Crea los archivos que generan un resumen de los universos medicos y de la sfarmacias**"
   ]
  },
  {
   "cell_type": "code",
   "execution_count": 1,
   "metadata": {},
   "outputs": [
    {
     "name": "stdout",
     "output_type": "stream",
     "text": [
      "listadoFarmacias_02062023.xlsx\n",
      "Farmacias_02062023\n",
      "listadoFarmacias_22052023.xlsx\n",
      "Farmacias_22052023\n",
      "listadoMedicos_02062023.xlsx\n",
      "Medicos_02062023\n",
      "listadoMedicos_22052023.xlsx\n",
      "Medicos_22052023\n"
     ]
    },
    {
     "data": {
      "text/plain": [
       "'ok'"
      ]
     },
     "execution_count": 1,
     "metadata": {},
     "output_type": "execute_result"
    }
   ],
   "source": [
    "import pandas as pd\n",
    "import numpy as np\n",
    "import os\n",
    "import matplotlib.pyplot as plt\n",
    "from tkinter import messagebox\n",
    "\n",
    "\n",
    "ruta = 'D:/RAYERE/Documents/Descargas/excelesPrueba/'\n",
    "#messagebox.showinfo(\"Ruta\",ruta)\n",
    "\n",
    "contenido = os.listdir(ruta) #listado de archivos en Ruta \n",
    "archExceles = []\n",
    "for fichero in contenido:\n",
    "    if os.path.isfile(os.path.join(ruta,fichero)) and fichero.endswith('.xlsx'):  #obtener datos tipo excel\n",
    "        archExceles.append(fichero)\n",
    "        print(fichero)\n",
    "        inicio=fichero.find('_')\n",
    "        final=fichero.find('.')\n",
    "        print(fichero[7:final])\n",
    "        archivo = ruta+fichero\n",
    "        miArch=pd.read_excel(archivo)  # leer archivos\n",
    "        archAgrupado=miArch.groupby(['Representante'],as_index=False).count() #agrupar\n",
    "        archPrev=archAgrupado[['Representante','Linea']]   #crear archivo                       \n",
    "        archPrev.to_csv(ruta+fichero[7:final]+\".csv\")   #crea csv\n",
    "\n",
    "    else: \n",
    "        messagebox.ERROR()\n",
    "        \n",
    "messagebox.showinfo(\"Resultado\",\"Se han creado los archivos de informacion\")\n",
    "\n",
    "    "
   ]
  },
  {
   "attachments": {},
   "cell_type": "markdown",
   "metadata": {},
   "source": [
    "**Crea el archivo de Inventarios para enviarlo a Smart Scale**"
   ]
  },
  {
   "cell_type": "code",
   "execution_count": 5,
   "metadata": {},
   "outputs": [
    {
     "name": "stdout",
     "output_type": "stream",
     "text": [
      "[['VALGION' 'AYUDA VISUAL VALGION CLT' 'MP' 1\n",
      "  'P1201 Roberto Herrera Cervantes' 'REP 1']\n",
      " ['VALGION' 'AYUDA VISUAL VALGION CLT' 'MP' 1\n",
      "  'P1202 Luís Arturo Rodríguez Páramo' 'REP 2']\n",
      " ['VALGION' 'AYUDA VISUAL VALGION CLT' 'MP' 1\n",
      "  'P1204 Erica Milena Bastida Jimenez' 'REP 3']\n",
      " ...\n",
      " ['DUOFLEX' 'DUOFLEX TABLETA 200 mg/50 mg C/30 ORIGINAL' 'MM' 40\n",
      "  'P1803 Beatriz Adriana Quezada García' 'REP 40']\n",
      " ['DUOFLEX' 'DUOFLEX TABLETA 200 mg/50 mg C/30 ORIGINAL' 'MM' 40\n",
      "  'P1904 Nadia Mireya Pérez Ayala ' 'REP 41']\n",
      " ['DUOFLEX' 'DUOFLEX TABLETA 200 mg/50 mg C/30 ORIGINAL' 'MM' 40\n",
      "  'P1905 José Nolazco Cota' 'REP 42']]\n"
     ]
    }
   ],
   "source": [
    "import pandas as pd\n",
    "import numpy as np\n",
    "\n",
    "path=\"D:/RAYERE/Documents/Investigacion de Mercados/2023/Material X Ciclo/CICLO 6/\"\n",
    "rutasRep = pd.read_excel(path+\"TABCICLO6.xlsx\",sheet_name=\"RUTA REP\")\n",
    "Materiales = pd.read_excel(path+\"TABCICLO6.xlsx\",sheet_name=\"Materiales\")\n",
    " \n",
    "productos= Materiales.to_numpy()\n",
    "#productos\n",
    "\n",
    "repres=rutasRep.to_numpy()\n",
    "\n",
    "\n",
    "\n",
    "productos_con_columnas_adicionales = np.repeat(productos, len(repres), axis=0)\n",
    "repres_repetido = np.tile(repres, (len(productos), 1))\n",
    "\n",
    "productos_con_columnas_adicionales = np.concatenate((productos_con_columnas_adicionales, repres_repetido), axis=1)\n",
    "\n",
    "print(\"------------productos con columnas adicionales--------\")\n",
    "print(productos_con_columnas_adicionales)\n",
    "\n",
    "midataframe=pd.DataFrame(productos_con_columnas_adicionales)\n",
    "\n",
    "midataframe.to_excel(path+\"miexcel.xlsx\")\n",
    "\n"
   ]
  }
 ],
 "metadata": {
  "kernelspec": {
   "display_name": "Python 3",
   "language": "python",
   "name": "python3"
  },
  "language_info": {
   "codemirror_mode": {
    "name": "ipython",
    "version": 3
   },
   "file_extension": ".py",
   "mimetype": "text/x-python",
   "name": "python",
   "nbconvert_exporter": "python",
   "pygments_lexer": "ipython3",
   "version": "3.10.6"
  },
  "orig_nbformat": 4
 },
 "nbformat": 4,
 "nbformat_minor": 2
}
