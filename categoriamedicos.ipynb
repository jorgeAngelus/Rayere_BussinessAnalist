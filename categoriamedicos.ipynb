{
 "cells": [
  {
   "cell_type": "markdown",
   "metadata": {},
   "source": [
    "Revisar Que categoria tienen los medicos."
   ]
  },
  {
   "cell_type": "code",
   "execution_count": 1,
   "metadata": {},
   "outputs": [],
   "source": [
    "import pandas as pd\n",
    "import numpy as np\n",
    "from tkinter import filedialog, simpledialog,messagebox\n",
    "import tkinter as tk"
   ]
  },
  {
   "cell_type": "code",
   "execution_count": 2,
   "metadata": {},
   "outputs": [],
   "source": [
    "def Especialidad (Esp):\n",
    "    if (Esp == \"CIRUGIA\" or Esp == \"MEDICINA GENERAL\" or Esp == \"MEDICINA INTERNA\"):\n",
    "        return 6\n",
    "    elif (Esp == \"MAXILOFACIAL\" or Esp == \"MEDICINA DEL DEPORTE\" or Esp == \"ODONTOLOGIA\" or Esp == \"REHABILITACION\"):\n",
    "        return 8\n",
    "    elif (Esp == \"GASTROENTEROLOGIA\" or Esp == \"GERIATRIA\" or Esp == \"NEUROLOGIA\" or Esp == \"ORTOPEDIA\" or Esp == \"PSIQUIATRIA\" or Esp == \"REUMATOLOGIA\" or Esp == \"TRAUMATOLOGIA\"):\n",
    "        return 10"
   ]
  },
  {
   "cell_type": "code",
   "execution_count": 3,
   "metadata": {},
   "outputs": [],
   "source": [
    "def Honorarios (hon):\n",
    "    if (hon == \"SUPER ALTOS\"):\n",
    "        return 10\n",
    "    elif (hon == \"ALTOS\"):\n",
    "        return 8\n",
    "    elif (hon == \"MEDIOS\"):\n",
    "        return 6\n",
    "    elif (hon == \"BAJOS\"):\n",
    "        return 4"
   ]
  },
  {
   "cell_type": "code",
   "execution_count": 4,
   "metadata": {},
   "outputs": [],
   "source": [
    "def PacientesXSem (pac):\n",
    "    if pac == \"DE 0 A 25\":\n",
    "        return 4\n",
    "    elif pac == \"DE 26 A 50\":\n",
    "        return 6\n",
    "    elif pac == \"DE 51 A 75\":\n",
    "        return 8\n",
    "    elif pac == \"MAS DE 75\":\n",
    "        return 10"
   ]
  },
  {
   "cell_type": "code",
   "execution_count": 5,
   "metadata": {},
   "outputs": [],
   "source": [
    "def ConsultaHospital (hosp_si_no):\n",
    "    if hosp_si_no == \"SI\":\n",
    "        return 2\n",
    "    elif hosp_si_no == \"NO\":\n",
    "        return 0"
   ]
  },
  {
   "cell_type": "code",
   "execution_count": 6,
   "metadata": {},
   "outputs": [],
   "source": [
    "def Edad (anios):\n",
    "    if anios>= 26 and anios <= 35:\n",
    "        return 8\n",
    "    elif anios >= 36 and anios <= 55:\n",
    "        return 10\n",
    "    else: return 6    "
   ]
  },
  {
   "cell_type": "code",
   "execution_count": 7,
   "metadata": {},
   "outputs": [],
   "source": [
    "def CATEGORIA (puntos):\n",
    "    if (puntos < 26):\n",
    "        return \"C\"\n",
    "    elif (puntos >= 26 and puntos <= 30):\n",
    "        return \"B\"\n",
    "    elif (puntos >=31 and puntos <=35):\n",
    "        return \"A\"\n",
    "    elif (puntos >=36 and puntos <=42):\n",
    "        return \"AA\"    "
   ]
  },
  {
   "cell_type": "code",
   "execution_count": 14,
   "metadata": {},
   "outputs": [],
   "source": [
    "hono= \"ALTOS\"\n",
    "Pac_Sem=\"DE 51 A 75\"\n",
    "especialidad=\"GERIATRIA\"\n",
    "edad=int(50)\n",
    "Consulta_Hospi=\"NO\""
   ]
  },
  {
   "cell_type": "code",
   "execution_count": 15,
   "metadata": {},
   "outputs": [
    {
     "name": "stdout",
     "output_type": "stream",
     "text": [
      "suma de puntos: 36\n",
      "AA\n"
     ]
    }
   ],
   "source": [
    "Sum5 =  Edad(edad)\n",
    "Sum1 = Especialidad(especialidad)\n",
    "Sum2 = Honorarios(hono)\n",
    "\n",
    "Sum3 = PacientesXSem(Pac_Sem)\n",
    "Sum4 = ConsultaHospital(Consulta_Hospi)\n",
    "\n",
    "Sum_Cat = Sum1+Sum2+Sum3+Sum4+Sum5\n",
    "Cat = str(CATEGORIA(Sum_Cat))\n",
    "print(\"suma de puntos: \"+ str(Sum_Cat))\n",
    "print(Cat)"
   ]
  }
 ],
 "metadata": {
  "kernelspec": {
   "display_name": "Python 3",
   "language": "python",
   "name": "python3"
  },
  "language_info": {
   "codemirror_mode": {
    "name": "ipython",
    "version": 3
   },
   "file_extension": ".py",
   "mimetype": "text/x-python",
   "name": "python",
   "nbconvert_exporter": "python",
   "pygments_lexer": "ipython3",
   "version": "3.10.6"
  }
 },
 "nbformat": 4,
 "nbformat_minor": 2
}
