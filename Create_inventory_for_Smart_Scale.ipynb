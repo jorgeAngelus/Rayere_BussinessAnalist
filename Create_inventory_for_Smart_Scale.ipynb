{
 "cells": [
  {
   "attachments": {},
   "cell_type": "markdown",
   "metadata": {},
   "source": [
    "**Crea el archivo de Inventarios para enviarlo a Smart Scale**"
   ]
  },
  {
   "cell_type": "code",
   "execution_count": 3,
   "metadata": {},
   "outputs": [
    {
     "name": "stdout",
     "output_type": "stream",
     "text": [
      "D:/RAYERE/Documents/Investigacion de Mercados/2024/Material X Ciclo/CICLO 8\n",
      "Todo esta en ok\n",
      "salio del bucle while\n"
     ]
    }
   ],
   "source": [
    "import pandas as pd\n",
    "import numpy as np\n",
    "from tkinter import filedialog, simpledialog\n",
    "import os\n",
    "from pathlib import Path\n",
    "import tkinter as tk\n",
    "\n",
    "pathMaterialCiclo = \"D:/RAYERE/Documents/Investigacion de Mercados/2024/Material X Ciclo\" #ruta de los archivos de Origen \n",
    "\n",
    "flag  = True\n",
    "while flag == True:\n",
    "\n",
    "    #dar la ruta del archivo y agregar el lote\n",
    "    lote = simpledialog.askstring(title=\"LOTE DE MATERIALES\",prompt=\"Agregue el lote al que pertenecen los Materiales y MM\")\n",
    "    oderPath = filedialog.askopenfilename(title=\"Archivo de Inventarios para SmartScale\",initialdir = pathMaterialCiclo ,filetypes=[(\"Archivo de Excel\",\"*.xlsx\")])\n",
    "\n",
    "    if len(lote) == 7:  #No esta vacio y tiene 7 caracteres\n",
    "\n",
    "        ciclo = lote[-2:]  #del Lote obtenemos el Ciclo\n",
    "        path=os.path.dirname(oderPath)\n",
    "        print(path)\n",
    "        \n",
    "        rutasRep = pd.read_excel(oderPath,sheet_name=\"RUTA REP\",)    #obtener archivos XlSX\n",
    "        Materiales = pd.read_excel(oderPath,sheet_name=\"Materiales\")\n",
    "        \n",
    "        productos= Materiales.to_numpy()  #convierte el dataframe a un array de Numpy\n",
    "        repres=rutasRep.to_numpy()\n",
    "\n",
    "        productos_con_columnas_adicionales = np.repeat(productos, len(repres), axis=0) #repeticion de columnas\n",
    "        repres_repetido = np.tile(repres, (len(productos), 1))   #repeticion de repres\n",
    "\n",
    "        productos_con_columnas_adicionales = np.concatenate((productos_con_columnas_adicionales, repres_repetido), axis=1)  # se concatena todopara tener un dataframe\n",
    "\n",
    "        midataframe=pd.DataFrame(productos_con_columnas_adicionales,columns=['FAMILIA','PRODUCTOS','TIPO DE MATERIAL','CANTIDAD','RUTA','REPRESENTANTE'])  # seleccion de Columnas que se utilizarán\n",
    "\n",
    "        neunDF = midataframe.assign(LOTE= lote)  # se agrega el Lote al dataframe\n",
    "\n",
    "        neunDF = neunDF[['RUTA','REPRESENTANTE','FAMILIA','PRODUCTOS','TIPO DE MATERIAL','LOTE','CANTIDAD']]  #le damos un ordenpara presentarlo\n",
    "\n",
    "        neunDF = neunDF.sort_values('RUTA',ascending=True)  #ordenamos el dataframe por ruta ascendente\n",
    "        \n",
    "        neunDF.to_excel(path+\"/MATERIAL CICLO \"+ciclo+\".xlsx\",sheet_name=\"Material\")  #exportamos a excel\n",
    "\n",
    "        resp=tk.messagebox.showinfo(message=\"Archivo de ciclo \"+ciclo+\" para Smarth Scale Terminado con exito\",title=\"Vorsicht\")\n",
    "        print(\"Todo esta en \" + resp)\n",
    "\n",
    "        flag = False\n",
    "        break\n",
    "\n",
    "    else:\n",
    "        flag = True\n",
    "    \n",
    "print(\"salio del bucle while\")"
   ]
  }
 ],
 "metadata": {
  "kernelspec": {
   "display_name": "Python 3",
   "language": "python",
   "name": "python3"
  },
  "language_info": {
   "codemirror_mode": {
    "name": "ipython",
    "version": 3
   },
   "file_extension": ".py",
   "mimetype": "text/x-python",
   "name": "python",
   "nbconvert_exporter": "python",
   "pygments_lexer": "ipython3",
   "version": "3.10.6"
  },
  "orig_nbformat": 4
 },
 "nbformat": 4,
 "nbformat_minor": 2
}
