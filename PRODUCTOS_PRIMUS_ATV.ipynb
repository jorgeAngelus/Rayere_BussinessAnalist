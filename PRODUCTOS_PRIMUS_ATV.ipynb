{
 "cells": [
  {
   "cell_type": "markdown",
   "metadata": {},
   "source": [
    "### Archivo de Productos Primus ATV"
   ]
  },
  {
   "cell_type": "markdown",
   "metadata": {},
   "source": [
    "##### Crea un archivo general de productos PRIMUS, este archivo es enviado por Knobloch separado por hojas hasta el mes actual. \n",
    "\n",
    "En el segundo archivo cambiar el nombre del campo **productos** por PRODUCTO."
   ]
  },
  {
   "cell_type": "code",
   "execution_count": 5,
   "metadata": {},
   "outputs": [
    {
     "name": "stderr",
     "output_type": "stream",
     "text": [
      "C:\\Users\\Invmerp01\\AppData\\Local\\Temp\\ipykernel_7588\\195258323.py:44: SettingWithCopyWarning: \n",
      "A value is trying to be set on a copy of a slice from a DataFrame.\n",
      "Try using .loc[row_indexer,col_indexer] = value instead\n",
      "\n",
      "See the caveats in the documentation: https://pandas.pydata.org/pandas-docs/stable/user_guide/indexing.html#returning-a-view-versus-a-copy\n",
      "  dfFiltradoRutas['PRODUCTO']=dfFiltradoRutas['PRODUCTO'].astype('category')\n",
      "C:\\Users\\Invmerp01\\AppData\\Local\\Temp\\ipykernel_7588\\195258323.py:45: SettingWithCopyWarning: \n",
      "A value is trying to be set on a copy of a slice from a DataFrame.\n",
      "Try using .loc[row_indexer,col_indexer] = value instead\n",
      "\n",
      "See the caveats in the documentation: https://pandas.pydata.org/pandas-docs/stable/user_guide/indexing.html#returning-a-view-versus-a-copy\n",
      "  dfFiltradoRutas['PRODUCTO']=dfFiltradoRutas['PRODUCTO'].cat.set_categories(primusProdutos)\n"
     ]
    },
    {
     "name": "stdout",
     "output_type": "stream",
     "text": [
      "termino\n"
     ]
    }
   ],
   "source": [
    "import pandas as pd\n",
    "import numpy as np\n",
    "from tkinter import filedialog, simpledialog,messagebox\n",
    "import tkinter as tk\n",
    "\n",
    "basepath= \"D:/RAYERE/PYTHON/\"\n",
    "primusProdutos = [\"DUOFLEX\",\"PRESTOFLAM LD\",\"VALGION CLT\",\"PERDUQUAN\",\"RAYPID\",\"7508515 QUIFLURAL TABL 400 MG 8\",\"NOPATIC\",\"PROMOTION\",\"NEPTALIP EXTEND\"]\n",
    "    # se cambio el filtro para obtener otros archivos.  este es el original primusProdutos = [\"VALGION CLT\",\"VALGION CLT INY\",\"PRESTOFLAM LD\",\"PRESTOFLAM LD INY\",\"PERDUQUAN\",\"PROMOTION\", \"NOPATIC\",\"NEPTALIP EXTEND\",\"2549010 DELIGLUS SOL 10 MG /ML 100 ML\",\"RESTERAL\",\"7508515 QUIFLURAL TABL 400 MG 8\",\"DUOFLEX\",\"RAYPID\"]\n",
    "mes= simpledialog.askstring(title=\"Mes y año de ATV\",prompt=\"Was ist der Monat und das Jahr von den Excel Datei?:\")\n",
    "\n",
    "while mes.isalnum() == True:\n",
    "\n",
    "    #obteniendo archivos\n",
    "    arch1 = filedialog.askopenfilename(title=\"Archivo Especial Mensual\",initialdir=basepath,filetypes=[(\"Archivo de Excel\",\"*.xlsx\")])  \n",
    "    arch2 = filedialog.askopenfilename(title=\"Archivo Rayere Mes Año\",initialdir=basepath,filetypes=[(\"Archivo de Excel\",\"*.xlsx\")]) \n",
    "    \n",
    "    #concatenando archivo de Productos    \n",
    "    VALGION=pd.read_excel(arch1,sheet_name=\"VALGION CLT\")\n",
    "    VALGION_INY=pd.read_excel(arch1,sheet_name=\"VALGION CLT INY\")\n",
    "    RESTERAL=pd.read_excel(arch1,sheet_name=\"RESTERAL\")\n",
    "    RAYPID=pd.read_excel(arch1,sheet_name=\"RAYPID\")\n",
    "    PRESTO_LD_INY=pd.read_excel(arch1,sheet_name=\"PRESTOFLAM LD INY\")\n",
    "    PRESTO_LD=pd.read_excel(arch1,sheet_name=\"PRESTOFLAM LD\")\n",
    "    PROMOTION=pd.read_excel(arch1,sheet_name=\"PROMOTION\")\n",
    "    PERDUQUAN=pd.read_excel(arch1,sheet_name=\"PERDUQUAN\")\n",
    "    DUOFLEX=pd.read_excel(arch1,sheet_name=\"DUOFLEX\")\n",
    "    NEPTALIP=pd.read_excel(arch1,sheet_name=\"NEPTALIP EXTEND\")\n",
    "    NOPATIC=pd.read_excel(arch1,sheet_name=\"NOPATIC\")\n",
    "\n",
    "    #dfConcatenado=pd.concat([VALGION,VALGION_INY,RESTERAL,RAYPID,PRESTO_LD_INY,PRESTO_LD,PROMOTION,PERDUQUAN,DUOFLEX,NEPTALIP,NOPATIC])\n",
    "    dfConcatenado=pd.concat([VALGION,RAYPID,PRESTO_LD,PROMOTION,PERDUQUAN,DUOFLEX,NEPTALIP,NOPATIC])\n",
    "\n",
    "    #Trabajando en el Archivo2  \n",
    "    dfvarios_RAYERE=pd.read_excel(arch2,0)\n",
    "    #dfvarios_RAYERE_Filtrado= dfvarios_RAYERE[(dfvarios_RAYERE.PRODUCTO == \"7508515 QUIFLURAL TABL 400 MG 8\") | (dfvarios_RAYERE.PRODUCTO == \"2549010 DELIGLUS SOL 10 MG /ML 100 ML\") ]\n",
    "    dfvarios_RAYERE_Filtrado= dfvarios_RAYERE[(dfvarios_RAYERE.PRODUCTO == \"7508515 QUIFLURAL TABL 400 MG 8\") ]\n",
    "\n",
    "    #Creando un Dataframe de la combinacion de dos archivos dfConcatenado y dfvarios_Rayere_Filtrado\n",
    "    dfcompleto= pd.concat([dfConcatenado,dfvarios_RAYERE_Filtrado])\n",
    "    \n",
    "    #crea el archivo resultante\n",
    "    dfFiltradoRutas= dfcompleto[(dfcompleto.ZONA.str.startswith('P1'))]\n",
    "\n",
    "    dfFiltradoRutas['PRODUCTO']=dfFiltradoRutas['PRODUCTO'].astype('category')\n",
    "    dfFiltradoRutas['PRODUCTO']=dfFiltradoRutas['PRODUCTO'].cat.set_categories(primusProdutos)\n",
    "       \n",
    "    #----------------------------------------------------------------------------------------------------\n",
    "    #Al dataframe  hay que cambiarle el orden y los nombres de las columnas   \n",
    "\n",
    "    dfMes=dfFiltradoRutas[[\"COD_ZONA\",\"PRODUCTO\",\"Mar. 2024\",\"Mar. 2023\",\"Acum. 3/2023\",\"Acum. 3/2024\"]]\n",
    "    \n",
    "    dfpivoteado=dfMes.pivot(index=\"COD_ZONA\",columns=\"PRODUCTO\",values=[\"Mar. 2024\"])\n",
    "    dfpivoteado[\"Total\"]=dfpivoteado.sum(axis=1)\n",
    "    dfpivoteado2=dfMes.pivot(index=\"COD_ZONA\",columns=\"PRODUCTO\",values=[\"Mar. 2023\"])\n",
    "    dfpivoteado2[\"Total\"]=dfpivoteado2.sum(axis=1)\n",
    "    dfpivoteado3=dfMes.pivot(index=\"COD_ZONA\",columns=\"PRODUCTO\",values=[\"Acum. 3/2023\"])\n",
    "    dfpivoteado3[\"Total\"]=dfpivoteado3.sum(axis=1)\n",
    "    dfpivoteado4=dfMes.pivot(index=\"COD_ZONA\",columns=\"PRODUCTO\",values=[\"Acum. 3/2024\"])\n",
    "    dfpivoteado4[\"Total\"]=dfpivoteado4.sum(axis=1)\n",
    "\n",
    "    with pd.ExcelWriter(basepath+\"ProductosPrimus_\"+mes+\".xlsx\") as writer:\n",
    "        dfpivoteado.to_excel(writer,sheet_name=\"Mes Actual\")\n",
    "        dfpivoteado2.to_excel(writer,sheet_name=\"Mes Anterior\")\n",
    "        dfpivoteado3.to_excel(writer,sheet_name=\"Acum Anterior\")\n",
    "        dfpivoteado4.to_excel(writer,sheet_name=\"Acum Actual\")\n",
    "\n",
    "    dfFiltradoRutas.to_excel(basepath+\"ProductosPrimusRutas\"+mes+\".xlsx\",sheet_name=\"PRIMUS ATV X RUTAS\")\n",
    "       \n",
    "    resp = messagebox.askyesno(title= \"Salida del Archivo\",message=\"Quieres crear el archivo con bricks??\")\n",
    "    #Excel solo con Rutas\n",
    "    if (resp==True):\n",
    "        #Excel con bricks\n",
    "        dfcompleto.to_excel(basepath+\"PrimusConBricks_\"+mes+\".xlsx\",sheet_name=\"PRIMUS ATV\")\n",
    "     \n",
    "    mes = \"\" \n",
    "\n",
    "messagebox.showinfo(message=\"Das Mont ist nich richtig oder Die Datei wurde erfolgreich erstellt\",title=\"Vorsicht\")\n",
    "print(\"termino\")\n"
   ]
  }
 ],
 "metadata": {
  "kernelspec": {
   "display_name": "Python 3",
   "language": "python",
   "name": "python3"
  },
  "language_info": {
   "codemirror_mode": {
    "name": "ipython",
    "version": 3
   },
   "file_extension": ".py",
   "mimetype": "text/x-python",
   "name": "python",
   "nbconvert_exporter": "python",
   "pygments_lexer": "ipython3",
   "version": "3.10.6"
  },
  "orig_nbformat": 4
 },
 "nbformat": 4,
 "nbformat_minor": 2
}
