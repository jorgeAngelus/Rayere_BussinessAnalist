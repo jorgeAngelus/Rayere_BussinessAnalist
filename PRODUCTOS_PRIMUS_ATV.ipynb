{
 "cells": [
  {
   "cell_type": "markdown",
   "metadata": {},
   "source": [
    "### Archivo de Productos Primus ATV"
   ]
  },
  {
   "cell_type": "markdown",
   "metadata": {},
   "source": [
    "##### Crea un archivo general de productos PRIMUS, este archivo es enviado por Knobloch separado por hojas hasta el mes actual. \n",
    "\n",
    "En el segundo archivo cambiar el nombre del campo **productos** por PRODUCTO."
   ]
  },
  {
   "cell_type": "code",
   "execution_count": 2,
   "metadata": {},
   "outputs": [],
   "source": [
    "import pandas as pd\n",
    "import numpy as np\n",
    "#import matplotlib.pyplot as plt\n",
    "mes =input(\"MES DE LA DATA\")\n",
    "basepath= \"D:/RAYERE/PYTHON\"\n",
    "archEspMen = input(\"Archivo especial Mensual\")\n",
    "archRayMes = input(\"Archivo Rayere Mes Año\")\n",
    "arch1 = basepath +\"/\"+ archEspMen +\".xlsx\"\n",
    "arch2 = basepath + \"/\"+archRayMes+\".xlsx\"\n",
    "\n",
    "VALGION=pd.read_excel(arch1,sheet_name=\"VALGION CLT\")\n",
    "VALGION_INY=pd.read_excel(arch1,sheet_name=\"VALGION CLT INY\")\n",
    "RESTERAL=pd.read_excel(arch1,sheet_name=\"RESTERAL\")\n",
    "RAYPID=pd.read_excel(arch1,sheet_name=\"RAYPID\")\n",
    "PRESTO_LD=pd.read_excel(arch1,sheet_name=\"PRESTOFLAM LD INY\")\n",
    "PRESTO=pd.read_excel(arch1,sheet_name=\"PRESTOFLAM LD\")\n",
    "PROMOTION=pd.read_excel(arch1,sheet_name=\"PROMOTION\")\n",
    "PERDUQUAN=pd.read_excel(arch1,sheet_name=\"PERDUQUAN\")\n",
    "DUOFLEX=pd.read_excel(arch1,sheet_name=\"DUOFLEX\")\n",
    "NEPTALIP=pd.read_excel(arch1,sheet_name=\"NEPTALIP EXTEND\")\n",
    "NOPATIC=pd.read_excel(arch1,sheet_name=\"NOPATIC\")\n",
    "\n",
    "dfConcatenado=pd.concat([VALGION,VALGION_INY,RESTERAL,RAYPID,PRESTO_LD,PRESTO,PROMOTION,PERDUQUAN,DUOFLEX,NEPTALIP,NOPATIC])\n",
    "#dfConcatcompleto= dfConcatenado[dfConcatenado[\"ZONA\"].str.startswith(\"P1\")]\n",
    "#dfConcatenado.to_excel(basepath+\"/ProductosPrimus_OCT_22.xlsx\")"
   ]
  },
  {
   "cell_type": "code",
   "execution_count": 3,
   "metadata": {},
   "outputs": [],
   "source": [
    "dfvarios_RAYERE=pd.read_excel(arch2,sheet_name=\"RAYERE\")\n",
    "dfvarios_RAYERE_Filtrado= dfvarios_RAYERE[(dfvarios_RAYERE.PRODUCTO == \"7508515 QUIFLURAL TABL 400 MG 8\") | (dfvarios_RAYERE.PRODUCTO == \"2549010 DELIGLUS SOL 10 MG /ML 100 ML\") ]\n",
    "\n",
    "dfcompleto= pd.concat([dfConcatenado,dfvarios_RAYERE_Filtrado])\n",
    "#dfvarios_RAYERE_Filtrado.to_excel(basepath+\"/ProductosPrimus2_OCT.xlsx\")\n",
    "\n",
    "dfcompleto.to_excel(basepath+\"/ProductosPrimus2_\"+mes+\".xlsx\")\n"
   ]
  }
 ],
 "metadata": {
  "kernelspec": {
   "display_name": "Python 3.10.6 64-bit",
   "language": "python",
   "name": "python3"
  },
  "language_info": {
   "codemirror_mode": {
    "name": "ipython",
    "version": 3
   },
   "file_extension": ".py",
   "mimetype": "text/x-python",
   "name": "python",
   "nbconvert_exporter": "python",
   "pygments_lexer": "ipython3",
   "version": "3.10.6"
  },
  "orig_nbformat": 4,
  "vscode": {
   "interpreter": {
    "hash": "a261e2ff76066ea715d80fe93bd7c5bc3d859698cfcab0f33f209154258a6799"
   }
  }
 },
 "nbformat": 4,
 "nbformat_minor": 2
}
