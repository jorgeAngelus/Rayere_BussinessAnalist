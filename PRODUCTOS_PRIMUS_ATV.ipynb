{
 "cells": [
  {
   "cell_type": "markdown",
   "metadata": {},
   "source": [
    "### Archivo de Productos Primus ATV"
   ]
  },
  {
   "cell_type": "markdown",
   "metadata": {},
   "source": [
    "##### Crea un archivo general de productos PRIMUS, este archivo es enviado por Knobloch separado por hojas hasta el mes actual. \n",
    "\n",
    "En el segundo archivo cambiar el nombre del campo **productos** por PRODUCTO."
   ]
  },
  {
   "cell_type": "code",
   "execution_count": 1,
   "metadata": {},
   "outputs": [
    {
     "name": "stdout",
     "output_type": "stream",
     "text": [
      "termino\n"
     ]
    }
   ],
   "source": [
    "import pandas as pd\n",
    "import numpy as np\n",
    "from tkinter import filedialog, simpledialog\n",
    "import tkinter as tk\n",
    "\n",
    "mes= simpledialog.askstring(title=\"Mes y año de ATV\",prompt=\"Was ist der Mont und Jahr von die Excel Datei?:\")\n",
    "\n",
    "while mes.isalnum() == True:\n",
    "\n",
    "    basepath= \"D:/RAYERE/PYTHON/\"\n",
    "\n",
    "    arch1 = filedialog.askopenfilename(title=\"Archivo Especial Mensual\",initialdir=basepath,filetypes=[(\"Archivo de Excel\",\"*.xlsx\")]) #basepath +\"/\"+ archEspMen +\".xlsx\" \n",
    "    \n",
    "    \n",
    "    arch2 = filedialog.askopenfilename(title=\"Archivo Rayere Mes Año\",initialdir=basepath,filetypes=[(\"Archivo de Excel\",\"*.xlsx\")]) #basepath + \"/\"+archRayMes+\".xlsx\" filedialog.askopenfilename(title=\"Archivo Rayere Mes Año\",initialdir=\"D:/RAYERE/PYTHON\",filetypes=[(\"Archivo de Excel\",\"*.xlsx\")])\n",
    "    \n",
    "\n",
    "    \n",
    "    \n",
    "    VALGION=pd.read_excel(arch1,sheet_name=\"VALGION CLT\")\n",
    "    VALGION_INY=pd.read_excel(arch1,sheet_name=\"VALGION CLT INY\")\n",
    "    RESTERAL=pd.read_excel(arch1,sheet_name=\"RESTERAL\")\n",
    "    RAYPID=pd.read_excel(arch1,sheet_name=\"RAYPID\")\n",
    "    PRESTO_LD=pd.read_excel(arch1,sheet_name=\"PRESTOFLAM LD INY\")\n",
    "    PRESTO=pd.read_excel(arch1,sheet_name=\"PRESTOFLAM LD\")\n",
    "    PROMOTION=pd.read_excel(arch1,sheet_name=\"PROMOTION\")\n",
    "    PERDUQUAN=pd.read_excel(arch1,sheet_name=\"PERDUQUAN\")\n",
    "    DUOFLEX=pd.read_excel(arch1,sheet_name=\"DUOFLEX\")\n",
    "    NEPTALIP=pd.read_excel(arch1,sheet_name=\"NEPTALIP EXTEND\")\n",
    "    NOPATIC=pd.read_excel(arch1,sheet_name=\"NOPATIC\")\n",
    "\n",
    "\n",
    "\n",
    "    dfConcatenado=pd.concat([VALGION,VALGION_INY,RESTERAL,RAYPID,PRESTO_LD,PRESTO,PROMOTION,PERDUQUAN,DUOFLEX,NEPTALIP,NOPATIC])\n",
    "      \n",
    "    dfvarios_RAYERE=pd.read_excel(arch2,0)\n",
    "    dfvarios_RAYERE_Filtrado= dfvarios_RAYERE[(dfvarios_RAYERE.PRODUCTO == \"7508515 QUIFLURAL TABL 400 MG 8\") | (dfvarios_RAYERE.PRODUCTO == \"2549010 DELIGLUS SOL 10 MG /ML 100 ML\") ]\n",
    "\n",
    "    dfcompleto= pd.concat([dfConcatenado,dfvarios_RAYERE_Filtrado])\n",
    "      \n",
    "    dfFiltradoRutas= dfcompleto[(dfcompleto.ZONA.str.startswith('P1'))]\n",
    "\n",
    "    dfFiltradoRutas.to_excel(basepath+\"ProductosPrimus2_\"+mes+\".xlsx\",sheet_name=\"PRIMUS ATV\")\n",
    "    dfcompleto.to_excel(basepath+\"PrimusFiltrado_\"+mes+\".xlsx\",sheet_name=\"PRIMUS ATV\")\n",
    "    \n",
    "    mes = \"\" \n",
    "\n",
    "tk.messagebox.showinfo(message=\"Das Mont ist nich richtig oder Die Datei wurde erfolgreich erstellt\",title=\"Vorsicht\")\n",
    "print(\"termino\")"
   ]
  }
 ],
 "metadata": {
  "kernelspec": {
   "display_name": "Python 3.10.6 64-bit",
   "language": "python",
   "name": "python3"
  },
  "language_info": {
   "codemirror_mode": {
    "name": "ipython",
    "version": 3
   },
   "file_extension": ".py",
   "mimetype": "text/x-python",
   "name": "python",
   "nbconvert_exporter": "python",
   "pygments_lexer": "ipython3",
   "version": "3.10.6"
  },
  "orig_nbformat": 4,
  "vscode": {
   "interpreter": {
    "hash": "a261e2ff76066ea715d80fe93bd7c5bc3d859698cfcab0f33f209154258a6799"
   }
  }
 },
 "nbformat": 4,
 "nbformat_minor": 2
}
