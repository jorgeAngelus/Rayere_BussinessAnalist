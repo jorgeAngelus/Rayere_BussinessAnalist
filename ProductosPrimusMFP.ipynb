{
 "cells": [
  {
   "cell_type": "code",
   "execution_count": 10,
   "metadata": {},
   "outputs": [],
   "source": [
    "import pandas as pd\n",
    "import numpy as np\n",
    "#import matplotlib.pyplot as plt\n",
    "\n",
    "basepath= \"D:/RAYERE/Desktop/PYTHON\"\n",
    "arch = basepath +\"/ProductosPrimusMFPM.xlsx\"\n",
    "\n",
    "myexcel = pd.read_excel(arch)\n",
    "myexcel_filtrado = myexcel[(myexcel.Producto ==\"PRESTOFLAM LD\") | (myexcel.Producto ==\"VALGION CLT\") | (myexcel.Producto ==\"DUOFLEX\") | (myexcel.Producto ==\"PROMOTION\") | (myexcel.Producto ==\"NEPTALIP EXTEND\") | (myexcel.Producto ==\"DELIGLUS\") | (myexcel.Producto ==\"PERDUQUAN\") | (myexcel.Producto ==\"NOPATIC\")| (myexcel.Producto ==\"QUIFLURAL\")| (myexcel.Producto ==\"RAYPID\")| (myexcel.Producto ==\"RESTERAL\")]\n",
    "myexcel_filtrado.to_excel(basepath + \"/primusMFP.xlsx\")\n",
    "\n",
    "\n"
   ]
  }
 ],
 "metadata": {
  "kernelspec": {
   "display_name": "Python 3.10.6 64-bit",
   "language": "python",
   "name": "python3"
  },
  "language_info": {
   "codemirror_mode": {
    "name": "ipython",
    "version": 3
   },
   "file_extension": ".py",
   "mimetype": "text/x-python",
   "name": "python",
   "nbconvert_exporter": "python",
   "pygments_lexer": "ipython3",
   "version": "3.10.6"
  },
  "orig_nbformat": 4,
  "vscode": {
   "interpreter": {
    "hash": "a261e2ff76066ea715d80fe93bd7c5bc3d859698cfcab0f33f209154258a6799"
   }
  }
 },
 "nbformat": 4,
 "nbformat_minor": 2
}
