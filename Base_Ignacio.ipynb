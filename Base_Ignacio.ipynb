{
 "cells": [
  {
   "cell_type": "markdown",
   "metadata": {},
   "source": [
    "Para revision de los archivos de la Base que envio Ignacio"
   ]
  },
  {
   "cell_type": "code",
   "execution_count": null,
   "metadata": {},
   "outputs": [],
   "source": [
    "import pandas as pd\n",
    "import numpy as np\n",
    "\n",
    "nomarchivo = input(\"nombre del archivo\")\n",
    "nomhoja=input(\"nombre de la Hoja\")\n",
    "\n",
    "base1 = pd.read_excel(\"D:/RAYERE/Documents/Investigacion de Mercados/estructura p1200/FZA N/\"+nomarchivo,sheet_name=nomhoja)\n",
    "base = base1[[\"Nombre\",\"Matricula\",\"Esp1\",\"Categ\",\"Periodo\",\"Productos1\",\"Cod.Postal\",\"Domicilio\",\"Region\",\"VISITADO\"]]\n",
    "base\n",
    "\n"
   ]
  }
 ],
 "metadata": {
  "kernelspec": {
   "display_name": "Python 3.10.6 64-bit",
   "language": "python",
   "name": "python3"
  },
  "language_info": {
   "codemirror_mode": {
    "name": "ipython",
    "version": 3
   },
   "file_extension": ".py",
   "mimetype": "text/x-python",
   "name": "python",
   "nbconvert_exporter": "python",
   "pygments_lexer": "ipython3",
   "version": "3.10.6"
  },
  "orig_nbformat": 4,
  "vscode": {
   "interpreter": {
    "hash": "a261e2ff76066ea715d80fe93bd7c5bc3d859698cfcab0f33f209154258a6799"
   }
  }
 },
 "nbformat": 4,
 "nbformat_minor": 2
}
